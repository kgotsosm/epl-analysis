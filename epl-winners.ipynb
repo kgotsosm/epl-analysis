{
 "cells": [
  {
   "cell_type": "markdown",
   "source": [
    "# Predicting EPL Winners\n",
    "\n",
    "This notebook will be used to create a model that can predict winners of the English Premier League. The data comes from the 'matches' dataset and contains data for the entire 2020-2021 season and partial data for the 2021-2022 season.\n",
    "\n",
    "The data was scraped during matchweek 30 of the 2021-2022 season."
   ],
   "metadata": {
    "collapsed": false
   }
  },
  {
   "cell_type": "code",
   "execution_count": 1,
   "outputs": [],
   "source": [
    "import pandas as pd\n",
    "import requests\n",
    "from bs4 import BeautifulSoup\n",
    "from sklearn import *"
   ],
   "metadata": {
    "collapsed": false
   }
  },
  {
   "cell_type": "markdown",
   "source": [
    "## Exploring the data\n",
    "\n",
    "The data contains 1389 entries. Since there are 20 teams in the league and each team plays 28 matches, there should be (2 * 28 * 30), or, 1520 entries. The reason for the 'missing' entries is that three teams were relegated at the end of the 2020-2021 season and three were promoted. This means that there will be 6 teams with 38 matches and 17 teams with 76 matches in the dataset."
   ],
   "metadata": {
    "collapsed": false
   }
  },
  {
   "cell_type": "code",
   "execution_count": 2,
   "outputs": [
    {
     "data": {
      "text/plain": "         date   time            comp        round  day venue result   gf   ga  \\\n1  2021-08-15  16:30  Premier League  Matchweek 1  Sun  Away      L  0.0  1.0   \n2  2021-08-21  15:00  Premier League  Matchweek 2  Sat  Home      W  5.0  0.0   \n3  2021-08-28  12:30  Premier League  Matchweek 3  Sat  Home      W  5.0  0.0   \n4  2021-09-11  15:00  Premier League  Matchweek 4  Sat  Away      W  1.0  0.0   \n6  2021-09-18  15:00  Premier League  Matchweek 5  Sat  Home      D  0.0  0.0   \n\n         opponent  ...  match report  notes    sh   sot  dist   fk   pk pkatt  \\\n1       Tottenham  ...  Match Report    NaN  18.0   4.0  16.9  1.0  0.0   0.0   \n2    Norwich City  ...  Match Report    NaN  16.0   4.0  17.3  1.0  0.0   0.0   \n3         Arsenal  ...  Match Report    NaN  25.0  10.0  14.3  0.0  0.0   0.0   \n4  Leicester City  ...  Match Report    NaN  25.0   8.0  14.0  0.0  0.0   0.0   \n6     Southampton  ...  Match Report    NaN  16.0   1.0  15.7  1.0  0.0   0.0   \n\n   season             team  \n1    2022  Manchester City  \n2    2022  Manchester City  \n3    2022  Manchester City  \n4    2022  Manchester City  \n6    2022  Manchester City  \n\n[5 rows x 27 columns]",
      "text/html": "<div>\n<style scoped>\n    .dataframe tbody tr th:only-of-type {\n        vertical-align: middle;\n    }\n\n    .dataframe tbody tr th {\n        vertical-align: top;\n    }\n\n    .dataframe thead th {\n        text-align: right;\n    }\n</style>\n<table border=\"1\" class=\"dataframe\">\n  <thead>\n    <tr style=\"text-align: right;\">\n      <th></th>\n      <th>date</th>\n      <th>time</th>\n      <th>comp</th>\n      <th>round</th>\n      <th>day</th>\n      <th>venue</th>\n      <th>result</th>\n      <th>gf</th>\n      <th>ga</th>\n      <th>opponent</th>\n      <th>...</th>\n      <th>match report</th>\n      <th>notes</th>\n      <th>sh</th>\n      <th>sot</th>\n      <th>dist</th>\n      <th>fk</th>\n      <th>pk</th>\n      <th>pkatt</th>\n      <th>season</th>\n      <th>team</th>\n    </tr>\n  </thead>\n  <tbody>\n    <tr>\n      <th>1</th>\n      <td>2021-08-15</td>\n      <td>16:30</td>\n      <td>Premier League</td>\n      <td>Matchweek 1</td>\n      <td>Sun</td>\n      <td>Away</td>\n      <td>L</td>\n      <td>0.0</td>\n      <td>1.0</td>\n      <td>Tottenham</td>\n      <td>...</td>\n      <td>Match Report</td>\n      <td>NaN</td>\n      <td>18.0</td>\n      <td>4.0</td>\n      <td>16.9</td>\n      <td>1.0</td>\n      <td>0.0</td>\n      <td>0.0</td>\n      <td>2022</td>\n      <td>Manchester City</td>\n    </tr>\n    <tr>\n      <th>2</th>\n      <td>2021-08-21</td>\n      <td>15:00</td>\n      <td>Premier League</td>\n      <td>Matchweek 2</td>\n      <td>Sat</td>\n      <td>Home</td>\n      <td>W</td>\n      <td>5.0</td>\n      <td>0.0</td>\n      <td>Norwich City</td>\n      <td>...</td>\n      <td>Match Report</td>\n      <td>NaN</td>\n      <td>16.0</td>\n      <td>4.0</td>\n      <td>17.3</td>\n      <td>1.0</td>\n      <td>0.0</td>\n      <td>0.0</td>\n      <td>2022</td>\n      <td>Manchester City</td>\n    </tr>\n    <tr>\n      <th>3</th>\n      <td>2021-08-28</td>\n      <td>12:30</td>\n      <td>Premier League</td>\n      <td>Matchweek 3</td>\n      <td>Sat</td>\n      <td>Home</td>\n      <td>W</td>\n      <td>5.0</td>\n      <td>0.0</td>\n      <td>Arsenal</td>\n      <td>...</td>\n      <td>Match Report</td>\n      <td>NaN</td>\n      <td>25.0</td>\n      <td>10.0</td>\n      <td>14.3</td>\n      <td>0.0</td>\n      <td>0.0</td>\n      <td>0.0</td>\n      <td>2022</td>\n      <td>Manchester City</td>\n    </tr>\n    <tr>\n      <th>4</th>\n      <td>2021-09-11</td>\n      <td>15:00</td>\n      <td>Premier League</td>\n      <td>Matchweek 4</td>\n      <td>Sat</td>\n      <td>Away</td>\n      <td>W</td>\n      <td>1.0</td>\n      <td>0.0</td>\n      <td>Leicester City</td>\n      <td>...</td>\n      <td>Match Report</td>\n      <td>NaN</td>\n      <td>25.0</td>\n      <td>8.0</td>\n      <td>14.0</td>\n      <td>0.0</td>\n      <td>0.0</td>\n      <td>0.0</td>\n      <td>2022</td>\n      <td>Manchester City</td>\n    </tr>\n    <tr>\n      <th>6</th>\n      <td>2021-09-18</td>\n      <td>15:00</td>\n      <td>Premier League</td>\n      <td>Matchweek 5</td>\n      <td>Sat</td>\n      <td>Home</td>\n      <td>D</td>\n      <td>0.0</td>\n      <td>0.0</td>\n      <td>Southampton</td>\n      <td>...</td>\n      <td>Match Report</td>\n      <td>NaN</td>\n      <td>16.0</td>\n      <td>1.0</td>\n      <td>15.7</td>\n      <td>1.0</td>\n      <td>0.0</td>\n      <td>0.0</td>\n      <td>2022</td>\n      <td>Manchester City</td>\n    </tr>\n  </tbody>\n</table>\n<p>5 rows × 27 columns</p>\n</div>"
     },
     "execution_count": 2,
     "metadata": {},
     "output_type": "execute_result"
    }
   ],
   "source": [
    "match_data = pd.read_csv('matches.csv', index_col=0)\n",
    "match_data.head()\n"
   ],
   "metadata": {
    "collapsed": false
   }
  },
  {
   "cell_type": "code",
   "execution_count": 3,
   "outputs": [
    {
     "data": {
      "text/plain": "(1389, 27)"
     },
     "execution_count": 3,
     "metadata": {},
     "output_type": "execute_result"
    }
   ],
   "source": [
    "match_data.shape"
   ],
   "metadata": {
    "collapsed": false
   }
  },
  {
   "cell_type": "markdown",
   "source": [
    "On further inspection, the data for Liverpool seems to be missing as they were not relegated from the league. 'Liverpool' only has entries rom the 2020-2021 season"
   ],
   "metadata": {
    "collapsed": false
   }
  },
  {
   "cell_type": "code",
   "execution_count": 4,
   "outputs": [
    {
     "data": {
      "text/plain": "Southampton                 72\nBrighton and Hove Albion    72\nManchester United           72\nWest Ham United             72\nNewcastle United            72\nBurnley                     71\nLeeds United                71\nCrystal Palace              71\nManchester City             71\nWolverhampton Wanderers     71\nTottenham Hotspur           71\nArsenal                     71\nLeicester City              70\nChelsea                     70\nAston Villa                 70\nEverton                     70\nLiverpool                   38\nFulham                      38\nWest Bromwich Albion        38\nSheffield United            38\nBrentford                   34\nWatford                     33\nNorwich City                33\nName: team, dtype: int64"
     },
     "execution_count": 4,
     "metadata": {},
     "output_type": "execute_result"
    }
   ],
   "source": [
    "match_data['team'].value_counts()"
   ],
   "metadata": {
    "collapsed": false
   }
  },
  {
   "cell_type": "code",
   "execution_count": 5,
   "outputs": [
    {
     "data": {
      "text/plain": "          date   time            comp         round  day venue result   gf  \\\n1   2020-09-12  17:30  Premier League   Matchweek 1  Sat  Home      W  4.0   \n2   2020-09-20  16:30  Premier League   Matchweek 2  Sun  Away      W  2.0   \n4   2020-09-28  20:00  Premier League   Matchweek 3  Mon  Home      W  3.0   \n6   2020-10-04  19:15  Premier League   Matchweek 4  Sun  Away      L  2.0   \n7   2020-10-17  12:30  Premier League   Matchweek 5  Sat  Away      D  2.0   \n9   2020-10-24  20:00  Premier League   Matchweek 6  Sat  Home      W  2.0   \n11  2020-10-31  17:30  Premier League   Matchweek 7  Sat  Home      W  2.0   \n13  2020-11-08  16:30  Premier League   Matchweek 8  Sun  Away      D  1.0   \n14  2020-11-22  19:15  Premier League   Matchweek 9  Sun  Home      W  3.0   \n16  2020-11-28  12:30  Premier League  Matchweek 10  Sat  Away      D  1.0   \n18  2020-12-06  19:15  Premier League  Matchweek 11  Sun  Home      W  4.0   \n20  2020-12-13  16:30  Premier League  Matchweek 12  Sun  Away      D  1.0   \n21  2020-12-16  20:00  Premier League  Matchweek 13  Wed  Home      W  2.0   \n22  2020-12-19  12:30  Premier League  Matchweek 14  Sat  Away      W  7.0   \n23  2020-12-27  16:30  Premier League  Matchweek 15  Sun  Home      D  1.0   \n24  2020-12-30  20:00  Premier League  Matchweek 16  Wed  Away      D  0.0   \n25  2021-01-04  20:00  Premier League  Matchweek 17  Mon  Away      L  0.0   \n27  2021-01-17  16:30  Premier League  Matchweek 19  Sun  Home      D  0.0   \n28  2021-01-21  20:00  Premier League  Matchweek 18  Thu  Home      L  0.0   \n30  2021-01-28  20:00  Premier League  Matchweek 20  Thu  Away      W  3.0   \n31  2021-01-31  16:30  Premier League  Matchweek 21  Sun  Away      W  3.0   \n32  2021-02-03  20:15  Premier League  Matchweek 22  Wed  Home      L  0.0   \n33  2021-02-07  16:30  Premier League  Matchweek 23  Sun  Home      L  1.0   \n34  2021-02-13  12:30  Premier League  Matchweek 24  Sat  Away      L  1.0   \n36  2021-02-20  17:30  Premier League  Matchweek 25  Sat  Home      L  0.0   \n37  2021-02-28  19:15  Premier League  Matchweek 26  Sun  Away      W  2.0   \n38  2021-03-04  20:15  Premier League  Matchweek 29  Thu  Home      L  0.0   \n39  2021-03-07  14:00  Premier League  Matchweek 27  Sun  Home      L  0.0   \n41  2021-03-15  20:00  Premier League  Matchweek 28  Mon  Away      W  1.0   \n42  2021-04-03  20:00  Premier League  Matchweek 30  Sat  Away      W  3.0   \n44  2021-04-10  15:00  Premier League  Matchweek 31  Sat  Home      W  2.0   \n46  2021-04-19  20:00  Premier League  Matchweek 32  Mon  Away      D  1.0   \n47  2021-04-24  12:30  Premier League  Matchweek 33  Sat  Home      D  1.0   \n48  2021-05-08  20:15  Premier League  Matchweek 35  Sat  Home      W  2.0   \n49  2021-05-13  20:15  Premier League  Matchweek 34  Thu  Away      W  4.0   \n50  2021-05-16  16:30  Premier League  Matchweek 36  Sun  Away      W  2.0   \n51  2021-05-19  20:15  Premier League  Matchweek 37  Wed  Away      W  3.0   \n52  2021-05-23  16:00  Premier League  Matchweek 38  Sun  Home      W  2.0   \n\n     ga         opponent  ...  match report  notes    sh   sot  dist   fk  \\\n1   3.0     Leeds United  ...  Match Report    NaN  20.0   4.0  17.0  0.0   \n2   0.0          Chelsea  ...  Match Report    NaN  17.0   5.0  17.7  1.0   \n4   1.0          Arsenal  ...  Match Report    NaN  21.0   9.0  16.8  0.0   \n6   7.0      Aston Villa  ...  Match Report    NaN  14.0   8.0  15.8  1.0   \n7   2.0          Everton  ...  Match Report    NaN  22.0   8.0  15.0  1.0   \n9   1.0    Sheffield Utd  ...  Match Report    NaN  17.0   5.0  18.2  1.0   \n11  1.0         West Ham  ...  Match Report    NaN   8.0   2.0  18.6  1.0   \n13  1.0  Manchester City  ...  Match Report    NaN   9.0   2.0  21.5  0.0   \n14  0.0   Leicester City  ...  Match Report    NaN  24.0  12.0  11.9  0.0   \n16  1.0         Brighton  ...  Match Report    NaN   6.0   2.0  20.9  0.0   \n18  0.0           Wolves  ...  Match Report    NaN  11.0   6.0  16.6  1.0   \n20  1.0           Fulham  ...  Match Report    NaN  11.0   5.0  20.0  1.0   \n21  1.0        Tottenham  ...  Match Report    NaN  17.0  11.0  15.5  0.0   \n22  0.0   Crystal Palace  ...  Match Report    NaN  14.0   7.0  13.2  1.0   \n23  1.0        West Brom  ...  Match Report    NaN  17.0   2.0  17.8  2.0   \n24  0.0    Newcastle Utd  ...  Match Report    NaN  11.0   4.0  16.7  0.0   \n25  1.0      Southampton  ...  Match Report    NaN  17.0   1.0  14.3  0.0   \n27  0.0   Manchester Utd  ...  Match Report    NaN  17.0   3.0  17.1  0.0   \n28  1.0          Burnley  ...  Match Report    NaN  27.0   6.0  17.3  0.0   \n30  1.0        Tottenham  ...  Match Report    NaN  14.0   7.0  14.7  0.0   \n31  1.0         West Ham  ...  Match Report    NaN  14.0   5.0  15.3  0.0   \n32  1.0         Brighton  ...  Match Report    NaN  11.0   0.0  19.9  0.0   \n33  4.0  Manchester City  ...  Match Report    NaN   7.0   2.0  17.9  1.0   \n34  3.0   Leicester City  ...  Match Report    NaN  15.0   4.0  15.4  2.0   \n36  2.0          Everton  ...  Match Report    NaN  16.0   6.0  15.9  1.0   \n37  0.0    Sheffield Utd  ...  Match Report    NaN  15.0   8.0  14.2  0.0   \n38  1.0          Chelsea  ...  Match Report    NaN   7.0   1.0  18.4  0.0   \n39  1.0           Fulham  ...  Match Report    NaN  16.0   3.0  17.0  1.0   \n41  0.0           Wolves  ...  Match Report    NaN  12.0   4.0  15.9  0.0   \n42  0.0          Arsenal  ...  Match Report    NaN  16.0   7.0  17.0  0.0   \n44  1.0      Aston Villa  ...  Match Report    NaN  23.0   8.0  16.7  1.0   \n46  1.0     Leeds United  ...  Match Report    NaN  17.0   7.0  15.7  0.0   \n47  1.0    Newcastle Utd  ...  Match Report    NaN  21.0   9.0  17.0  1.0   \n48  0.0      Southampton  ...  Match Report    NaN  14.0   6.0  12.4  0.0   \n49  2.0   Manchester Utd  ...  Match Report    NaN  17.0   8.0  14.9  0.0   \n50  1.0        West Brom  ...  Match Report    NaN  26.0   6.0  16.9  1.0   \n51  0.0          Burnley  ...  Match Report    NaN  20.0   3.0  15.5  1.0   \n52  0.0   Crystal Palace  ...  Match Report    NaN  19.0   5.0  14.2  1.0   \n\n     pk pkatt  season       team  \n1   2.0   2.0    2021  Liverpool  \n2   0.0   0.0    2021  Liverpool  \n4   0.0   0.0    2021  Liverpool  \n6   0.0   0.0    2021  Liverpool  \n7   0.0   0.0    2021  Liverpool  \n9   0.0   0.0    2021  Liverpool  \n11  1.0   1.0    2021  Liverpool  \n13  1.0   1.0    2021  Liverpool  \n14  0.0   0.0    2021  Liverpool  \n16  0.0   0.0    2021  Liverpool  \n18  0.0   0.0    2021  Liverpool  \n20  1.0   1.0    2021  Liverpool  \n21  0.0   0.0    2021  Liverpool  \n22  0.0   0.0    2021  Liverpool  \n23  0.0   0.0    2021  Liverpool  \n24  0.0   0.0    2021  Liverpool  \n25  0.0   0.0    2021  Liverpool  \n27  0.0   0.0    2021  Liverpool  \n28  0.0   0.0    2021  Liverpool  \n30  0.0   0.0    2021  Liverpool  \n31  0.0   0.0    2021  Liverpool  \n32  0.0   0.0    2021  Liverpool  \n33  1.0   1.0    2021  Liverpool  \n34  0.0   0.0    2021  Liverpool  \n36  0.0   0.0    2021  Liverpool  \n37  0.0   0.0    2021  Liverpool  \n38  0.0   0.0    2021  Liverpool  \n39  0.0   0.0    2021  Liverpool  \n41  0.0   0.0    2021  Liverpool  \n42  0.0   0.0    2021  Liverpool  \n44  0.0   0.0    2021  Liverpool  \n46  0.0   0.0    2021  Liverpool  \n47  0.0   0.0    2021  Liverpool  \n48  0.0   0.0    2021  Liverpool  \n49  0.0   0.0    2021  Liverpool  \n50  0.0   0.0    2021  Liverpool  \n51  0.0   0.0    2021  Liverpool  \n52  0.0   0.0    2021  Liverpool  \n\n[38 rows x 27 columns]",
      "text/html": "<div>\n<style scoped>\n    .dataframe tbody tr th:only-of-type {\n        vertical-align: middle;\n    }\n\n    .dataframe tbody tr th {\n        vertical-align: top;\n    }\n\n    .dataframe thead th {\n        text-align: right;\n    }\n</style>\n<table border=\"1\" class=\"dataframe\">\n  <thead>\n    <tr style=\"text-align: right;\">\n      <th></th>\n      <th>date</th>\n      <th>time</th>\n      <th>comp</th>\n      <th>round</th>\n      <th>day</th>\n      <th>venue</th>\n      <th>result</th>\n      <th>gf</th>\n      <th>ga</th>\n      <th>opponent</th>\n      <th>...</th>\n      <th>match report</th>\n      <th>notes</th>\n      <th>sh</th>\n      <th>sot</th>\n      <th>dist</th>\n      <th>fk</th>\n      <th>pk</th>\n      <th>pkatt</th>\n      <th>season</th>\n      <th>team</th>\n    </tr>\n  </thead>\n  <tbody>\n    <tr>\n      <th>1</th>\n      <td>2020-09-12</td>\n      <td>17:30</td>\n      <td>Premier League</td>\n      <td>Matchweek 1</td>\n      <td>Sat</td>\n      <td>Home</td>\n      <td>W</td>\n      <td>4.0</td>\n      <td>3.0</td>\n      <td>Leeds United</td>\n      <td>...</td>\n      <td>Match Report</td>\n      <td>NaN</td>\n      <td>20.0</td>\n      <td>4.0</td>\n      <td>17.0</td>\n      <td>0.0</td>\n      <td>2.0</td>\n      <td>2.0</td>\n      <td>2021</td>\n      <td>Liverpool</td>\n    </tr>\n    <tr>\n      <th>2</th>\n      <td>2020-09-20</td>\n      <td>16:30</td>\n      <td>Premier League</td>\n      <td>Matchweek 2</td>\n      <td>Sun</td>\n      <td>Away</td>\n      <td>W</td>\n      <td>2.0</td>\n      <td>0.0</td>\n      <td>Chelsea</td>\n      <td>...</td>\n      <td>Match Report</td>\n      <td>NaN</td>\n      <td>17.0</td>\n      <td>5.0</td>\n      <td>17.7</td>\n      <td>1.0</td>\n      <td>0.0</td>\n      <td>0.0</td>\n      <td>2021</td>\n      <td>Liverpool</td>\n    </tr>\n    <tr>\n      <th>4</th>\n      <td>2020-09-28</td>\n      <td>20:00</td>\n      <td>Premier League</td>\n      <td>Matchweek 3</td>\n      <td>Mon</td>\n      <td>Home</td>\n      <td>W</td>\n      <td>3.0</td>\n      <td>1.0</td>\n      <td>Arsenal</td>\n      <td>...</td>\n      <td>Match Report</td>\n      <td>NaN</td>\n      <td>21.0</td>\n      <td>9.0</td>\n      <td>16.8</td>\n      <td>0.0</td>\n      <td>0.0</td>\n      <td>0.0</td>\n      <td>2021</td>\n      <td>Liverpool</td>\n    </tr>\n    <tr>\n      <th>6</th>\n      <td>2020-10-04</td>\n      <td>19:15</td>\n      <td>Premier League</td>\n      <td>Matchweek 4</td>\n      <td>Sun</td>\n      <td>Away</td>\n      <td>L</td>\n      <td>2.0</td>\n      <td>7.0</td>\n      <td>Aston Villa</td>\n      <td>...</td>\n      <td>Match Report</td>\n      <td>NaN</td>\n      <td>14.0</td>\n      <td>8.0</td>\n      <td>15.8</td>\n      <td>1.0</td>\n      <td>0.0</td>\n      <td>0.0</td>\n      <td>2021</td>\n      <td>Liverpool</td>\n    </tr>\n    <tr>\n      <th>7</th>\n      <td>2020-10-17</td>\n      <td>12:30</td>\n      <td>Premier League</td>\n      <td>Matchweek 5</td>\n      <td>Sat</td>\n      <td>Away</td>\n      <td>D</td>\n      <td>2.0</td>\n      <td>2.0</td>\n      <td>Everton</td>\n      <td>...</td>\n      <td>Match Report</td>\n      <td>NaN</td>\n      <td>22.0</td>\n      <td>8.0</td>\n      <td>15.0</td>\n      <td>1.0</td>\n      <td>0.0</td>\n      <td>0.0</td>\n      <td>2021</td>\n      <td>Liverpool</td>\n    </tr>\n    <tr>\n      <th>9</th>\n      <td>2020-10-24</td>\n      <td>20:00</td>\n      <td>Premier League</td>\n      <td>Matchweek 6</td>\n      <td>Sat</td>\n      <td>Home</td>\n      <td>W</td>\n      <td>2.0</td>\n      <td>1.0</td>\n      <td>Sheffield Utd</td>\n      <td>...</td>\n      <td>Match Report</td>\n      <td>NaN</td>\n      <td>17.0</td>\n      <td>5.0</td>\n      <td>18.2</td>\n      <td>1.0</td>\n      <td>0.0</td>\n      <td>0.0</td>\n      <td>2021</td>\n      <td>Liverpool</td>\n    </tr>\n    <tr>\n      <th>11</th>\n      <td>2020-10-31</td>\n      <td>17:30</td>\n      <td>Premier League</td>\n      <td>Matchweek 7</td>\n      <td>Sat</td>\n      <td>Home</td>\n      <td>W</td>\n      <td>2.0</td>\n      <td>1.0</td>\n      <td>West Ham</td>\n      <td>...</td>\n      <td>Match Report</td>\n      <td>NaN</td>\n      <td>8.0</td>\n      <td>2.0</td>\n      <td>18.6</td>\n      <td>1.0</td>\n      <td>1.0</td>\n      <td>1.0</td>\n      <td>2021</td>\n      <td>Liverpool</td>\n    </tr>\n    <tr>\n      <th>13</th>\n      <td>2020-11-08</td>\n      <td>16:30</td>\n      <td>Premier League</td>\n      <td>Matchweek 8</td>\n      <td>Sun</td>\n      <td>Away</td>\n      <td>D</td>\n      <td>1.0</td>\n      <td>1.0</td>\n      <td>Manchester City</td>\n      <td>...</td>\n      <td>Match Report</td>\n      <td>NaN</td>\n      <td>9.0</td>\n      <td>2.0</td>\n      <td>21.5</td>\n      <td>0.0</td>\n      <td>1.0</td>\n      <td>1.0</td>\n      <td>2021</td>\n      <td>Liverpool</td>\n    </tr>\n    <tr>\n      <th>14</th>\n      <td>2020-11-22</td>\n      <td>19:15</td>\n      <td>Premier League</td>\n      <td>Matchweek 9</td>\n      <td>Sun</td>\n      <td>Home</td>\n      <td>W</td>\n      <td>3.0</td>\n      <td>0.0</td>\n      <td>Leicester City</td>\n      <td>...</td>\n      <td>Match Report</td>\n      <td>NaN</td>\n      <td>24.0</td>\n      <td>12.0</td>\n      <td>11.9</td>\n      <td>0.0</td>\n      <td>0.0</td>\n      <td>0.0</td>\n      <td>2021</td>\n      <td>Liverpool</td>\n    </tr>\n    <tr>\n      <th>16</th>\n      <td>2020-11-28</td>\n      <td>12:30</td>\n      <td>Premier League</td>\n      <td>Matchweek 10</td>\n      <td>Sat</td>\n      <td>Away</td>\n      <td>D</td>\n      <td>1.0</td>\n      <td>1.0</td>\n      <td>Brighton</td>\n      <td>...</td>\n      <td>Match Report</td>\n      <td>NaN</td>\n      <td>6.0</td>\n      <td>2.0</td>\n      <td>20.9</td>\n      <td>0.0</td>\n      <td>0.0</td>\n      <td>0.0</td>\n      <td>2021</td>\n      <td>Liverpool</td>\n    </tr>\n    <tr>\n      <th>18</th>\n      <td>2020-12-06</td>\n      <td>19:15</td>\n      <td>Premier League</td>\n      <td>Matchweek 11</td>\n      <td>Sun</td>\n      <td>Home</td>\n      <td>W</td>\n      <td>4.0</td>\n      <td>0.0</td>\n      <td>Wolves</td>\n      <td>...</td>\n      <td>Match Report</td>\n      <td>NaN</td>\n      <td>11.0</td>\n      <td>6.0</td>\n      <td>16.6</td>\n      <td>1.0</td>\n      <td>0.0</td>\n      <td>0.0</td>\n      <td>2021</td>\n      <td>Liverpool</td>\n    </tr>\n    <tr>\n      <th>20</th>\n      <td>2020-12-13</td>\n      <td>16:30</td>\n      <td>Premier League</td>\n      <td>Matchweek 12</td>\n      <td>Sun</td>\n      <td>Away</td>\n      <td>D</td>\n      <td>1.0</td>\n      <td>1.0</td>\n      <td>Fulham</td>\n      <td>...</td>\n      <td>Match Report</td>\n      <td>NaN</td>\n      <td>11.0</td>\n      <td>5.0</td>\n      <td>20.0</td>\n      <td>1.0</td>\n      <td>1.0</td>\n      <td>1.0</td>\n      <td>2021</td>\n      <td>Liverpool</td>\n    </tr>\n    <tr>\n      <th>21</th>\n      <td>2020-12-16</td>\n      <td>20:00</td>\n      <td>Premier League</td>\n      <td>Matchweek 13</td>\n      <td>Wed</td>\n      <td>Home</td>\n      <td>W</td>\n      <td>2.0</td>\n      <td>1.0</td>\n      <td>Tottenham</td>\n      <td>...</td>\n      <td>Match Report</td>\n      <td>NaN</td>\n      <td>17.0</td>\n      <td>11.0</td>\n      <td>15.5</td>\n      <td>0.0</td>\n      <td>0.0</td>\n      <td>0.0</td>\n      <td>2021</td>\n      <td>Liverpool</td>\n    </tr>\n    <tr>\n      <th>22</th>\n      <td>2020-12-19</td>\n      <td>12:30</td>\n      <td>Premier League</td>\n      <td>Matchweek 14</td>\n      <td>Sat</td>\n      <td>Away</td>\n      <td>W</td>\n      <td>7.0</td>\n      <td>0.0</td>\n      <td>Crystal Palace</td>\n      <td>...</td>\n      <td>Match Report</td>\n      <td>NaN</td>\n      <td>14.0</td>\n      <td>7.0</td>\n      <td>13.2</td>\n      <td>1.0</td>\n      <td>0.0</td>\n      <td>0.0</td>\n      <td>2021</td>\n      <td>Liverpool</td>\n    </tr>\n    <tr>\n      <th>23</th>\n      <td>2020-12-27</td>\n      <td>16:30</td>\n      <td>Premier League</td>\n      <td>Matchweek 15</td>\n      <td>Sun</td>\n      <td>Home</td>\n      <td>D</td>\n      <td>1.0</td>\n      <td>1.0</td>\n      <td>West Brom</td>\n      <td>...</td>\n      <td>Match Report</td>\n      <td>NaN</td>\n      <td>17.0</td>\n      <td>2.0</td>\n      <td>17.8</td>\n      <td>2.0</td>\n      <td>0.0</td>\n      <td>0.0</td>\n      <td>2021</td>\n      <td>Liverpool</td>\n    </tr>\n    <tr>\n      <th>24</th>\n      <td>2020-12-30</td>\n      <td>20:00</td>\n      <td>Premier League</td>\n      <td>Matchweek 16</td>\n      <td>Wed</td>\n      <td>Away</td>\n      <td>D</td>\n      <td>0.0</td>\n      <td>0.0</td>\n      <td>Newcastle Utd</td>\n      <td>...</td>\n      <td>Match Report</td>\n      <td>NaN</td>\n      <td>11.0</td>\n      <td>4.0</td>\n      <td>16.7</td>\n      <td>0.0</td>\n      <td>0.0</td>\n      <td>0.0</td>\n      <td>2021</td>\n      <td>Liverpool</td>\n    </tr>\n    <tr>\n      <th>25</th>\n      <td>2021-01-04</td>\n      <td>20:00</td>\n      <td>Premier League</td>\n      <td>Matchweek 17</td>\n      <td>Mon</td>\n      <td>Away</td>\n      <td>L</td>\n      <td>0.0</td>\n      <td>1.0</td>\n      <td>Southampton</td>\n      <td>...</td>\n      <td>Match Report</td>\n      <td>NaN</td>\n      <td>17.0</td>\n      <td>1.0</td>\n      <td>14.3</td>\n      <td>0.0</td>\n      <td>0.0</td>\n      <td>0.0</td>\n      <td>2021</td>\n      <td>Liverpool</td>\n    </tr>\n    <tr>\n      <th>27</th>\n      <td>2021-01-17</td>\n      <td>16:30</td>\n      <td>Premier League</td>\n      <td>Matchweek 19</td>\n      <td>Sun</td>\n      <td>Home</td>\n      <td>D</td>\n      <td>0.0</td>\n      <td>0.0</td>\n      <td>Manchester Utd</td>\n      <td>...</td>\n      <td>Match Report</td>\n      <td>NaN</td>\n      <td>17.0</td>\n      <td>3.0</td>\n      <td>17.1</td>\n      <td>0.0</td>\n      <td>0.0</td>\n      <td>0.0</td>\n      <td>2021</td>\n      <td>Liverpool</td>\n    </tr>\n    <tr>\n      <th>28</th>\n      <td>2021-01-21</td>\n      <td>20:00</td>\n      <td>Premier League</td>\n      <td>Matchweek 18</td>\n      <td>Thu</td>\n      <td>Home</td>\n      <td>L</td>\n      <td>0.0</td>\n      <td>1.0</td>\n      <td>Burnley</td>\n      <td>...</td>\n      <td>Match Report</td>\n      <td>NaN</td>\n      <td>27.0</td>\n      <td>6.0</td>\n      <td>17.3</td>\n      <td>0.0</td>\n      <td>0.0</td>\n      <td>0.0</td>\n      <td>2021</td>\n      <td>Liverpool</td>\n    </tr>\n    <tr>\n      <th>30</th>\n      <td>2021-01-28</td>\n      <td>20:00</td>\n      <td>Premier League</td>\n      <td>Matchweek 20</td>\n      <td>Thu</td>\n      <td>Away</td>\n      <td>W</td>\n      <td>3.0</td>\n      <td>1.0</td>\n      <td>Tottenham</td>\n      <td>...</td>\n      <td>Match Report</td>\n      <td>NaN</td>\n      <td>14.0</td>\n      <td>7.0</td>\n      <td>14.7</td>\n      <td>0.0</td>\n      <td>0.0</td>\n      <td>0.0</td>\n      <td>2021</td>\n      <td>Liverpool</td>\n    </tr>\n    <tr>\n      <th>31</th>\n      <td>2021-01-31</td>\n      <td>16:30</td>\n      <td>Premier League</td>\n      <td>Matchweek 21</td>\n      <td>Sun</td>\n      <td>Away</td>\n      <td>W</td>\n      <td>3.0</td>\n      <td>1.0</td>\n      <td>West Ham</td>\n      <td>...</td>\n      <td>Match Report</td>\n      <td>NaN</td>\n      <td>14.0</td>\n      <td>5.0</td>\n      <td>15.3</td>\n      <td>0.0</td>\n      <td>0.0</td>\n      <td>0.0</td>\n      <td>2021</td>\n      <td>Liverpool</td>\n    </tr>\n    <tr>\n      <th>32</th>\n      <td>2021-02-03</td>\n      <td>20:15</td>\n      <td>Premier League</td>\n      <td>Matchweek 22</td>\n      <td>Wed</td>\n      <td>Home</td>\n      <td>L</td>\n      <td>0.0</td>\n      <td>1.0</td>\n      <td>Brighton</td>\n      <td>...</td>\n      <td>Match Report</td>\n      <td>NaN</td>\n      <td>11.0</td>\n      <td>0.0</td>\n      <td>19.9</td>\n      <td>0.0</td>\n      <td>0.0</td>\n      <td>0.0</td>\n      <td>2021</td>\n      <td>Liverpool</td>\n    </tr>\n    <tr>\n      <th>33</th>\n      <td>2021-02-07</td>\n      <td>16:30</td>\n      <td>Premier League</td>\n      <td>Matchweek 23</td>\n      <td>Sun</td>\n      <td>Home</td>\n      <td>L</td>\n      <td>1.0</td>\n      <td>4.0</td>\n      <td>Manchester City</td>\n      <td>...</td>\n      <td>Match Report</td>\n      <td>NaN</td>\n      <td>7.0</td>\n      <td>2.0</td>\n      <td>17.9</td>\n      <td>1.0</td>\n      <td>1.0</td>\n      <td>1.0</td>\n      <td>2021</td>\n      <td>Liverpool</td>\n    </tr>\n    <tr>\n      <th>34</th>\n      <td>2021-02-13</td>\n      <td>12:30</td>\n      <td>Premier League</td>\n      <td>Matchweek 24</td>\n      <td>Sat</td>\n      <td>Away</td>\n      <td>L</td>\n      <td>1.0</td>\n      <td>3.0</td>\n      <td>Leicester City</td>\n      <td>...</td>\n      <td>Match Report</td>\n      <td>NaN</td>\n      <td>15.0</td>\n      <td>4.0</td>\n      <td>15.4</td>\n      <td>2.0</td>\n      <td>0.0</td>\n      <td>0.0</td>\n      <td>2021</td>\n      <td>Liverpool</td>\n    </tr>\n    <tr>\n      <th>36</th>\n      <td>2021-02-20</td>\n      <td>17:30</td>\n      <td>Premier League</td>\n      <td>Matchweek 25</td>\n      <td>Sat</td>\n      <td>Home</td>\n      <td>L</td>\n      <td>0.0</td>\n      <td>2.0</td>\n      <td>Everton</td>\n      <td>...</td>\n      <td>Match Report</td>\n      <td>NaN</td>\n      <td>16.0</td>\n      <td>6.0</td>\n      <td>15.9</td>\n      <td>1.0</td>\n      <td>0.0</td>\n      <td>0.0</td>\n      <td>2021</td>\n      <td>Liverpool</td>\n    </tr>\n    <tr>\n      <th>37</th>\n      <td>2021-02-28</td>\n      <td>19:15</td>\n      <td>Premier League</td>\n      <td>Matchweek 26</td>\n      <td>Sun</td>\n      <td>Away</td>\n      <td>W</td>\n      <td>2.0</td>\n      <td>0.0</td>\n      <td>Sheffield Utd</td>\n      <td>...</td>\n      <td>Match Report</td>\n      <td>NaN</td>\n      <td>15.0</td>\n      <td>8.0</td>\n      <td>14.2</td>\n      <td>0.0</td>\n      <td>0.0</td>\n      <td>0.0</td>\n      <td>2021</td>\n      <td>Liverpool</td>\n    </tr>\n    <tr>\n      <th>38</th>\n      <td>2021-03-04</td>\n      <td>20:15</td>\n      <td>Premier League</td>\n      <td>Matchweek 29</td>\n      <td>Thu</td>\n      <td>Home</td>\n      <td>L</td>\n      <td>0.0</td>\n      <td>1.0</td>\n      <td>Chelsea</td>\n      <td>...</td>\n      <td>Match Report</td>\n      <td>NaN</td>\n      <td>7.0</td>\n      <td>1.0</td>\n      <td>18.4</td>\n      <td>0.0</td>\n      <td>0.0</td>\n      <td>0.0</td>\n      <td>2021</td>\n      <td>Liverpool</td>\n    </tr>\n    <tr>\n      <th>39</th>\n      <td>2021-03-07</td>\n      <td>14:00</td>\n      <td>Premier League</td>\n      <td>Matchweek 27</td>\n      <td>Sun</td>\n      <td>Home</td>\n      <td>L</td>\n      <td>0.0</td>\n      <td>1.0</td>\n      <td>Fulham</td>\n      <td>...</td>\n      <td>Match Report</td>\n      <td>NaN</td>\n      <td>16.0</td>\n      <td>3.0</td>\n      <td>17.0</td>\n      <td>1.0</td>\n      <td>0.0</td>\n      <td>0.0</td>\n      <td>2021</td>\n      <td>Liverpool</td>\n    </tr>\n    <tr>\n      <th>41</th>\n      <td>2021-03-15</td>\n      <td>20:00</td>\n      <td>Premier League</td>\n      <td>Matchweek 28</td>\n      <td>Mon</td>\n      <td>Away</td>\n      <td>W</td>\n      <td>1.0</td>\n      <td>0.0</td>\n      <td>Wolves</td>\n      <td>...</td>\n      <td>Match Report</td>\n      <td>NaN</td>\n      <td>12.0</td>\n      <td>4.0</td>\n      <td>15.9</td>\n      <td>0.0</td>\n      <td>0.0</td>\n      <td>0.0</td>\n      <td>2021</td>\n      <td>Liverpool</td>\n    </tr>\n    <tr>\n      <th>42</th>\n      <td>2021-04-03</td>\n      <td>20:00</td>\n      <td>Premier League</td>\n      <td>Matchweek 30</td>\n      <td>Sat</td>\n      <td>Away</td>\n      <td>W</td>\n      <td>3.0</td>\n      <td>0.0</td>\n      <td>Arsenal</td>\n      <td>...</td>\n      <td>Match Report</td>\n      <td>NaN</td>\n      <td>16.0</td>\n      <td>7.0</td>\n      <td>17.0</td>\n      <td>0.0</td>\n      <td>0.0</td>\n      <td>0.0</td>\n      <td>2021</td>\n      <td>Liverpool</td>\n    </tr>\n    <tr>\n      <th>44</th>\n      <td>2021-04-10</td>\n      <td>15:00</td>\n      <td>Premier League</td>\n      <td>Matchweek 31</td>\n      <td>Sat</td>\n      <td>Home</td>\n      <td>W</td>\n      <td>2.0</td>\n      <td>1.0</td>\n      <td>Aston Villa</td>\n      <td>...</td>\n      <td>Match Report</td>\n      <td>NaN</td>\n      <td>23.0</td>\n      <td>8.0</td>\n      <td>16.7</td>\n      <td>1.0</td>\n      <td>0.0</td>\n      <td>0.0</td>\n      <td>2021</td>\n      <td>Liverpool</td>\n    </tr>\n    <tr>\n      <th>46</th>\n      <td>2021-04-19</td>\n      <td>20:00</td>\n      <td>Premier League</td>\n      <td>Matchweek 32</td>\n      <td>Mon</td>\n      <td>Away</td>\n      <td>D</td>\n      <td>1.0</td>\n      <td>1.0</td>\n      <td>Leeds United</td>\n      <td>...</td>\n      <td>Match Report</td>\n      <td>NaN</td>\n      <td>17.0</td>\n      <td>7.0</td>\n      <td>15.7</td>\n      <td>0.0</td>\n      <td>0.0</td>\n      <td>0.0</td>\n      <td>2021</td>\n      <td>Liverpool</td>\n    </tr>\n    <tr>\n      <th>47</th>\n      <td>2021-04-24</td>\n      <td>12:30</td>\n      <td>Premier League</td>\n      <td>Matchweek 33</td>\n      <td>Sat</td>\n      <td>Home</td>\n      <td>D</td>\n      <td>1.0</td>\n      <td>1.0</td>\n      <td>Newcastle Utd</td>\n      <td>...</td>\n      <td>Match Report</td>\n      <td>NaN</td>\n      <td>21.0</td>\n      <td>9.0</td>\n      <td>17.0</td>\n      <td>1.0</td>\n      <td>0.0</td>\n      <td>0.0</td>\n      <td>2021</td>\n      <td>Liverpool</td>\n    </tr>\n    <tr>\n      <th>48</th>\n      <td>2021-05-08</td>\n      <td>20:15</td>\n      <td>Premier League</td>\n      <td>Matchweek 35</td>\n      <td>Sat</td>\n      <td>Home</td>\n      <td>W</td>\n      <td>2.0</td>\n      <td>0.0</td>\n      <td>Southampton</td>\n      <td>...</td>\n      <td>Match Report</td>\n      <td>NaN</td>\n      <td>14.0</td>\n      <td>6.0</td>\n      <td>12.4</td>\n      <td>0.0</td>\n      <td>0.0</td>\n      <td>0.0</td>\n      <td>2021</td>\n      <td>Liverpool</td>\n    </tr>\n    <tr>\n      <th>49</th>\n      <td>2021-05-13</td>\n      <td>20:15</td>\n      <td>Premier League</td>\n      <td>Matchweek 34</td>\n      <td>Thu</td>\n      <td>Away</td>\n      <td>W</td>\n      <td>4.0</td>\n      <td>2.0</td>\n      <td>Manchester Utd</td>\n      <td>...</td>\n      <td>Match Report</td>\n      <td>NaN</td>\n      <td>17.0</td>\n      <td>8.0</td>\n      <td>14.9</td>\n      <td>0.0</td>\n      <td>0.0</td>\n      <td>0.0</td>\n      <td>2021</td>\n      <td>Liverpool</td>\n    </tr>\n    <tr>\n      <th>50</th>\n      <td>2021-05-16</td>\n      <td>16:30</td>\n      <td>Premier League</td>\n      <td>Matchweek 36</td>\n      <td>Sun</td>\n      <td>Away</td>\n      <td>W</td>\n      <td>2.0</td>\n      <td>1.0</td>\n      <td>West Brom</td>\n      <td>...</td>\n      <td>Match Report</td>\n      <td>NaN</td>\n      <td>26.0</td>\n      <td>6.0</td>\n      <td>16.9</td>\n      <td>1.0</td>\n      <td>0.0</td>\n      <td>0.0</td>\n      <td>2021</td>\n      <td>Liverpool</td>\n    </tr>\n    <tr>\n      <th>51</th>\n      <td>2021-05-19</td>\n      <td>20:15</td>\n      <td>Premier League</td>\n      <td>Matchweek 37</td>\n      <td>Wed</td>\n      <td>Away</td>\n      <td>W</td>\n      <td>3.0</td>\n      <td>0.0</td>\n      <td>Burnley</td>\n      <td>...</td>\n      <td>Match Report</td>\n      <td>NaN</td>\n      <td>20.0</td>\n      <td>3.0</td>\n      <td>15.5</td>\n      <td>1.0</td>\n      <td>0.0</td>\n      <td>0.0</td>\n      <td>2021</td>\n      <td>Liverpool</td>\n    </tr>\n    <tr>\n      <th>52</th>\n      <td>2021-05-23</td>\n      <td>16:00</td>\n      <td>Premier League</td>\n      <td>Matchweek 38</td>\n      <td>Sun</td>\n      <td>Home</td>\n      <td>W</td>\n      <td>2.0</td>\n      <td>0.0</td>\n      <td>Crystal Palace</td>\n      <td>...</td>\n      <td>Match Report</td>\n      <td>NaN</td>\n      <td>19.0</td>\n      <td>5.0</td>\n      <td>14.2</td>\n      <td>1.0</td>\n      <td>0.0</td>\n      <td>0.0</td>\n      <td>2021</td>\n      <td>Liverpool</td>\n    </tr>\n  </tbody>\n</table>\n<p>38 rows × 27 columns</p>\n</div>"
     },
     "execution_count": 5,
     "metadata": {},
     "output_type": "execute_result"
    }
   ],
   "source": [
    "match_data[match_data['team'] == 'Liverpool']"
   ],
   "metadata": {
    "collapsed": false
   }
  },
  {
   "cell_type": "markdown",
   "source": [
    "### Matchweek Data\n",
    "The data was scraped partway through the 2020-21 season so there are some matchweeks that have fewer than 39 entries."
   ],
   "metadata": {
    "collapsed": false
   }
  },
  {
   "cell_type": "code",
   "execution_count": 6,
   "outputs": [
    {
     "data": {
      "text/plain": "Matchweek 1     39\nMatchweek 16    39\nMatchweek 34    39\nMatchweek 32    39\nMatchweek 31    39\nMatchweek 29    39\nMatchweek 28    39\nMatchweek 26    39\nMatchweek 25    39\nMatchweek 24    39\nMatchweek 23    39\nMatchweek 2     39\nMatchweek 19    39\nMatchweek 17    39\nMatchweek 20    39\nMatchweek 15    39\nMatchweek 5     39\nMatchweek 3     39\nMatchweek 13    39\nMatchweek 12    39\nMatchweek 4     39\nMatchweek 11    39\nMatchweek 10    39\nMatchweek 9     39\nMatchweek 8     39\nMatchweek 14    39\nMatchweek 7     39\nMatchweek 6     39\nMatchweek 30    37\nMatchweek 27    37\nMatchweek 22    37\nMatchweek 21    37\nMatchweek 18    37\nMatchweek 33    32\nMatchweek 35    20\nMatchweek 36    20\nMatchweek 37    20\nMatchweek 38    20\nName: round, dtype: int64"
     },
     "execution_count": 6,
     "metadata": {},
     "output_type": "execute_result"
    }
   ],
   "source": [
    "match_data[\"round\"].value_counts()"
   ],
   "metadata": {
    "collapsed": false
   }
  },
  {
   "cell_type": "markdown",
   "source": [
    "## Data cleaning\n",
    "Creating columns that are numeric to be able to use them as input for the predictor."
   ],
   "metadata": {
    "collapsed": false
   }
  },
  {
   "cell_type": "code",
   "execution_count": 7,
   "outputs": [
    {
     "data": {
      "text/plain": "date            datetime64[ns]\ntime                    object\ncomp                    object\nround                   object\nday                     object\nvenue                   object\nresult                  object\ngf                     float64\nga                     float64\nopponent                object\nxg                     float64\nxga                    float64\nposs                   float64\nattendance             float64\ncaptain                 object\nformation               object\nreferee                 object\nmatch report            object\nnotes                  float64\nsh                     float64\nsot                    float64\ndist                   float64\nfk                     float64\npk                     float64\npkatt                  float64\nseason                   int64\nteam                    object\ndtype: object"
     },
     "execution_count": 7,
     "metadata": {},
     "output_type": "execute_result"
    }
   ],
   "source": [
    "# Convert dates column values to \"datetime\"\n",
    "\n",
    "match_data[\"date\"] = pd.to_datetime(match_data[\"date\"])\n",
    "match_data.dtypes"
   ],
   "metadata": {
    "collapsed": false
   }
  },
  {
   "cell_type": "markdown",
   "source": [
    "## Creating the predictors"
   ],
   "metadata": {
    "collapsed": false
   }
  },
  {
   "cell_type": "markdown",
   "source": [
    "#### Venue Code\n",
    "Convert the \"Home\" or \"Away\" venue for each team to a value that can be used for the predictor. This will be of type \"int\"."
   ],
   "metadata": {
    "collapsed": false
   }
  },
  {
   "cell_type": "code",
   "execution_count": 8,
   "outputs": [],
   "source": [
    "# Away matches will be 0 and home matches will be 1\n",
    "\n",
    "match_data[\"venue_code\"] = match_data[\"venue\"].astype(\"category\").cat.codes"
   ],
   "metadata": {
    "collapsed": false
   }
  },
  {
   "cell_type": "markdown",
   "source": [
    "#### Opponent code\n",
    "\n",
    "Convert each opponent to an int value"
   ],
   "metadata": {
    "collapsed": false
   }
  },
  {
   "cell_type": "code",
   "execution_count": 9,
   "outputs": [],
   "source": [
    "# Each team will get its own number\n",
    "\n",
    "match_data[\"opp_code\"] = match_data[\"opponent\"].astype(\"category\").cat.codes"
   ],
   "metadata": {
    "collapsed": false
   }
  },
  {
   "cell_type": "markdown",
   "source": [
    "#### Time of match\n",
    "Create categories for each time of day. Some teams may play better at day or night matches"
   ],
   "metadata": {
    "collapsed": false
   }
  },
  {
   "cell_type": "code",
   "execution_count": 10,
   "outputs": [],
   "source": [
    "# Keep only the hour in the time column. Convert the hour to an integer\n",
    "\n",
    "match_data[\"hour\"] = match_data[\"time\"].str.replace(\":.+\", \"\", regex=True).astype(\"int\")"
   ],
   "metadata": {
    "collapsed": false
   }
  },
  {
   "cell_type": "markdown",
   "source": [
    "#### Day of The Week\n",
    "\n",
    "Give each day of the week a unique number"
   ],
   "metadata": {
    "collapsed": false
   }
  },
  {
   "cell_type": "code",
   "execution_count": 11,
   "outputs": [],
   "source": [
    "match_data[\"day_code\"] = match_data[\"date\"].dt.dayofweek"
   ],
   "metadata": {
    "collapsed": false
   }
  },
  {
   "cell_type": "code",
   "execution_count": 12,
   "outputs": [
    {
     "data": {
      "text/plain": "        date   time            comp        round  day venue result   gf   ga  \\\n1 2021-08-15  16:30  Premier League  Matchweek 1  Sun  Away      L  0.0  1.0   \n2 2021-08-21  15:00  Premier League  Matchweek 2  Sat  Home      W  5.0  0.0   \n3 2021-08-28  12:30  Premier League  Matchweek 3  Sat  Home      W  5.0  0.0   \n4 2021-09-11  15:00  Premier League  Matchweek 4  Sat  Away      W  1.0  0.0   \n6 2021-09-18  15:00  Premier League  Matchweek 5  Sat  Home      D  0.0  0.0   \n\n         opponent  ...  dist   fk   pk  pkatt season             team  \\\n1       Tottenham  ...  16.9  1.0  0.0    0.0   2022  Manchester City   \n2    Norwich City  ...  17.3  1.0  0.0    0.0   2022  Manchester City   \n3         Arsenal  ...  14.3  0.0  0.0    0.0   2022  Manchester City   \n4  Leicester City  ...  14.0  0.0  0.0    0.0   2022  Manchester City   \n6     Southampton  ...  15.7  1.0  0.0    0.0   2022  Manchester City   \n\n  venue_code opp_code  hour  day_code  \n1          0       18    16         6  \n2          1       15    15         5  \n3          1        0    12         5  \n4          0       10    15         5  \n6          1       17    15         5  \n\n[5 rows x 31 columns]",
      "text/html": "<div>\n<style scoped>\n    .dataframe tbody tr th:only-of-type {\n        vertical-align: middle;\n    }\n\n    .dataframe tbody tr th {\n        vertical-align: top;\n    }\n\n    .dataframe thead th {\n        text-align: right;\n    }\n</style>\n<table border=\"1\" class=\"dataframe\">\n  <thead>\n    <tr style=\"text-align: right;\">\n      <th></th>\n      <th>date</th>\n      <th>time</th>\n      <th>comp</th>\n      <th>round</th>\n      <th>day</th>\n      <th>venue</th>\n      <th>result</th>\n      <th>gf</th>\n      <th>ga</th>\n      <th>opponent</th>\n      <th>...</th>\n      <th>dist</th>\n      <th>fk</th>\n      <th>pk</th>\n      <th>pkatt</th>\n      <th>season</th>\n      <th>team</th>\n      <th>venue_code</th>\n      <th>opp_code</th>\n      <th>hour</th>\n      <th>day_code</th>\n    </tr>\n  </thead>\n  <tbody>\n    <tr>\n      <th>1</th>\n      <td>2021-08-15</td>\n      <td>16:30</td>\n      <td>Premier League</td>\n      <td>Matchweek 1</td>\n      <td>Sun</td>\n      <td>Away</td>\n      <td>L</td>\n      <td>0.0</td>\n      <td>1.0</td>\n      <td>Tottenham</td>\n      <td>...</td>\n      <td>16.9</td>\n      <td>1.0</td>\n      <td>0.0</td>\n      <td>0.0</td>\n      <td>2022</td>\n      <td>Manchester City</td>\n      <td>0</td>\n      <td>18</td>\n      <td>16</td>\n      <td>6</td>\n    </tr>\n    <tr>\n      <th>2</th>\n      <td>2021-08-21</td>\n      <td>15:00</td>\n      <td>Premier League</td>\n      <td>Matchweek 2</td>\n      <td>Sat</td>\n      <td>Home</td>\n      <td>W</td>\n      <td>5.0</td>\n      <td>0.0</td>\n      <td>Norwich City</td>\n      <td>...</td>\n      <td>17.3</td>\n      <td>1.0</td>\n      <td>0.0</td>\n      <td>0.0</td>\n      <td>2022</td>\n      <td>Manchester City</td>\n      <td>1</td>\n      <td>15</td>\n      <td>15</td>\n      <td>5</td>\n    </tr>\n    <tr>\n      <th>3</th>\n      <td>2021-08-28</td>\n      <td>12:30</td>\n      <td>Premier League</td>\n      <td>Matchweek 3</td>\n      <td>Sat</td>\n      <td>Home</td>\n      <td>W</td>\n      <td>5.0</td>\n      <td>0.0</td>\n      <td>Arsenal</td>\n      <td>...</td>\n      <td>14.3</td>\n      <td>0.0</td>\n      <td>0.0</td>\n      <td>0.0</td>\n      <td>2022</td>\n      <td>Manchester City</td>\n      <td>1</td>\n      <td>0</td>\n      <td>12</td>\n      <td>5</td>\n    </tr>\n    <tr>\n      <th>4</th>\n      <td>2021-09-11</td>\n      <td>15:00</td>\n      <td>Premier League</td>\n      <td>Matchweek 4</td>\n      <td>Sat</td>\n      <td>Away</td>\n      <td>W</td>\n      <td>1.0</td>\n      <td>0.0</td>\n      <td>Leicester City</td>\n      <td>...</td>\n      <td>14.0</td>\n      <td>0.0</td>\n      <td>0.0</td>\n      <td>0.0</td>\n      <td>2022</td>\n      <td>Manchester City</td>\n      <td>0</td>\n      <td>10</td>\n      <td>15</td>\n      <td>5</td>\n    </tr>\n    <tr>\n      <th>6</th>\n      <td>2021-09-18</td>\n      <td>15:00</td>\n      <td>Premier League</td>\n      <td>Matchweek 5</td>\n      <td>Sat</td>\n      <td>Home</td>\n      <td>D</td>\n      <td>0.0</td>\n      <td>0.0</td>\n      <td>Southampton</td>\n      <td>...</td>\n      <td>15.7</td>\n      <td>1.0</td>\n      <td>0.0</td>\n      <td>0.0</td>\n      <td>2022</td>\n      <td>Manchester City</td>\n      <td>1</td>\n      <td>17</td>\n      <td>15</td>\n      <td>5</td>\n    </tr>\n  </tbody>\n</table>\n<p>5 rows × 31 columns</p>\n</div>"
     },
     "execution_count": 12,
     "metadata": {},
     "output_type": "execute_result"
    }
   ],
   "source": [
    "match_data.head() # check the data"
   ],
   "metadata": {
    "collapsed": false
   }
  },
  {
   "cell_type": "code",
   "execution_count": 13,
   "outputs": [],
   "source": [
    "# Return a 1 if a team won or a 0 if the team lost or played a draw\n",
    "\n",
    "match_data[\"target\"] = (match_data['result'] == 'W').astype(\"int\")"
   ],
   "metadata": {
    "collapsed": false
   }
  },
  {
   "cell_type": "markdown",
   "source": [
    "## Creating Initial Model"
   ],
   "metadata": {
    "collapsed": false
   }
  },
  {
   "cell_type": "code",
   "execution_count": 14,
   "outputs": [],
   "source": [
    "from sklearn.ensemble import RandomForestClassifier"
   ],
   "metadata": {
    "collapsed": false
   }
  },
  {
   "cell_type": "code",
   "execution_count": 15,
   "outputs": [],
   "source": [
    "rf = RandomForestClassifier(n_estimators=50, min_samples_split=10, random_state=1)"
   ],
   "metadata": {
    "collapsed": false
   }
  },
  {
   "cell_type": "markdown",
   "source": [
    "## Training and Testing Our Model\n",
    "We trained our algorith with all matches before 2022 and then tested it with all matches played in 2022."
   ],
   "metadata": {
    "collapsed": false
   }
  },
  {
   "cell_type": "code",
   "execution_count": 16,
   "outputs": [],
   "source": [
    "train = match_data[match_data[\"date\"] < '2022-01-01']\n",
    "test = match_data[match_data[\"date\"] > '2022-01-01']"
   ],
   "metadata": {
    "collapsed": false
   }
  },
  {
   "cell_type": "code",
   "execution_count": 17,
   "outputs": [],
   "source": [
    "predictors = [\"venue_code\", \"opp_code\", \"hour\", \"day_code\"]"
   ],
   "metadata": {
    "collapsed": false
   }
  },
  {
   "cell_type": "code",
   "execution_count": 18,
   "outputs": [
    {
     "data": {
      "text/plain": "RandomForestClassifier(min_samples_split=10, n_estimators=50, random_state=1)",
      "text/html": "<style>#sk-container-id-1 {color: black;background-color: white;}#sk-container-id-1 pre{padding: 0;}#sk-container-id-1 div.sk-toggleable {background-color: white;}#sk-container-id-1 label.sk-toggleable__label {cursor: pointer;display: block;width: 100%;margin-bottom: 0;padding: 0.3em;box-sizing: border-box;text-align: center;}#sk-container-id-1 label.sk-toggleable__label-arrow:before {content: \"▸\";float: left;margin-right: 0.25em;color: #696969;}#sk-container-id-1 label.sk-toggleable__label-arrow:hover:before {color: black;}#sk-container-id-1 div.sk-estimator:hover label.sk-toggleable__label-arrow:before {color: black;}#sk-container-id-1 div.sk-toggleable__content {max-height: 0;max-width: 0;overflow: hidden;text-align: left;background-color: #f0f8ff;}#sk-container-id-1 div.sk-toggleable__content pre {margin: 0.2em;color: black;border-radius: 0.25em;background-color: #f0f8ff;}#sk-container-id-1 input.sk-toggleable__control:checked~div.sk-toggleable__content {max-height: 200px;max-width: 100%;overflow: auto;}#sk-container-id-1 input.sk-toggleable__control:checked~label.sk-toggleable__label-arrow:before {content: \"▾\";}#sk-container-id-1 div.sk-estimator input.sk-toggleable__control:checked~label.sk-toggleable__label {background-color: #d4ebff;}#sk-container-id-1 div.sk-label input.sk-toggleable__control:checked~label.sk-toggleable__label {background-color: #d4ebff;}#sk-container-id-1 input.sk-hidden--visually {border: 0;clip: rect(1px 1px 1px 1px);clip: rect(1px, 1px, 1px, 1px);height: 1px;margin: -1px;overflow: hidden;padding: 0;position: absolute;width: 1px;}#sk-container-id-1 div.sk-estimator {font-family: monospace;background-color: #f0f8ff;border: 1px dotted black;border-radius: 0.25em;box-sizing: border-box;margin-bottom: 0.5em;}#sk-container-id-1 div.sk-estimator:hover {background-color: #d4ebff;}#sk-container-id-1 div.sk-parallel-item::after {content: \"\";width: 100%;border-bottom: 1px solid gray;flex-grow: 1;}#sk-container-id-1 div.sk-label:hover label.sk-toggleable__label {background-color: #d4ebff;}#sk-container-id-1 div.sk-serial::before {content: \"\";position: absolute;border-left: 1px solid gray;box-sizing: border-box;top: 0;bottom: 0;left: 50%;z-index: 0;}#sk-container-id-1 div.sk-serial {display: flex;flex-direction: column;align-items: center;background-color: white;padding-right: 0.2em;padding-left: 0.2em;position: relative;}#sk-container-id-1 div.sk-item {position: relative;z-index: 1;}#sk-container-id-1 div.sk-parallel {display: flex;align-items: stretch;justify-content: center;background-color: white;position: relative;}#sk-container-id-1 div.sk-item::before, #sk-container-id-1 div.sk-parallel-item::before {content: \"\";position: absolute;border-left: 1px solid gray;box-sizing: border-box;top: 0;bottom: 0;left: 50%;z-index: -1;}#sk-container-id-1 div.sk-parallel-item {display: flex;flex-direction: column;z-index: 1;position: relative;background-color: white;}#sk-container-id-1 div.sk-parallel-item:first-child::after {align-self: flex-end;width: 50%;}#sk-container-id-1 div.sk-parallel-item:last-child::after {align-self: flex-start;width: 50%;}#sk-container-id-1 div.sk-parallel-item:only-child::after {width: 0;}#sk-container-id-1 div.sk-dashed-wrapped {border: 1px dashed gray;margin: 0 0.4em 0.5em 0.4em;box-sizing: border-box;padding-bottom: 0.4em;background-color: white;}#sk-container-id-1 div.sk-label label {font-family: monospace;font-weight: bold;display: inline-block;line-height: 1.2em;}#sk-container-id-1 div.sk-label-container {text-align: center;}#sk-container-id-1 div.sk-container {/* jupyter's `normalize.less` sets `[hidden] { display: none; }` but bootstrap.min.css set `[hidden] { display: none !important; }` so we also need the `!important` here to be able to override the default hidden behavior on the sphinx rendered scikit-learn.org. See: https://github.com/scikit-learn/scikit-learn/issues/21755 */display: inline-block !important;position: relative;}#sk-container-id-1 div.sk-text-repr-fallback {display: none;}</style><div id=\"sk-container-id-1\" class=\"sk-top-container\"><div class=\"sk-text-repr-fallback\"><pre>RandomForestClassifier(min_samples_split=10, n_estimators=50, random_state=1)</pre><b>In a Jupyter environment, please rerun this cell to show the HTML representation or trust the notebook. <br />On GitHub, the HTML representation is unable to render, please try loading this page with nbviewer.org.</b></div><div class=\"sk-container\" hidden><div class=\"sk-item\"><div class=\"sk-estimator sk-toggleable\"><input class=\"sk-toggleable__control sk-hidden--visually\" id=\"sk-estimator-id-1\" type=\"checkbox\" checked><label for=\"sk-estimator-id-1\" class=\"sk-toggleable__label sk-toggleable__label-arrow\">RandomForestClassifier</label><div class=\"sk-toggleable__content\"><pre>RandomForestClassifier(min_samples_split=10, n_estimators=50, random_state=1)</pre></div></div></div></div></div>"
     },
     "execution_count": 18,
     "metadata": {},
     "output_type": "execute_result"
    }
   ],
   "source": [
    "rf.fit(train[predictors], train[\"target\"])"
   ],
   "metadata": {
    "collapsed": false
   }
  },
  {
   "cell_type": "code",
   "execution_count": 19,
   "outputs": [],
   "source": [
    "preds = rf.predict(test[predictors])"
   ],
   "metadata": {
    "collapsed": false
   }
  },
  {
   "cell_type": "markdown",
   "source": [
    "#### Determine Our Measure of Accuracy"
   ],
   "metadata": {
    "collapsed": false
   }
  },
  {
   "cell_type": "code",
   "execution_count": 20,
   "outputs": [],
   "source": [
    "from sklearn.metrics import accuracy_score"
   ],
   "metadata": {
    "collapsed": false
   }
  },
  {
   "cell_type": "code",
   "execution_count": 21,
   "outputs": [
    {
     "data": {
      "text/plain": "0.6123188405797102"
     },
     "execution_count": 21,
     "metadata": {},
     "output_type": "execute_result"
    }
   ],
   "source": [
    "accuracy = accuracy_score(test[\"target\"], preds)\n",
    "accuracy"
   ],
   "metadata": {
    "collapsed": false
   }
  },
  {
   "cell_type": "markdown",
   "source": [
    "### When Was Accuracy High?\n",
    "\n",
    "The model had a higher accuracy at predicting draws and losses. We need to revisit this in order to reach our goal of predicting winners accurately."
   ],
   "metadata": {
    "collapsed": false
   }
  },
  {
   "cell_type": "code",
   "execution_count": 22,
   "outputs": [
    {
     "data": {
      "text/plain": "col_0   prediction\nactual            \n0              172\n1              104",
      "text/html": "<div>\n<style scoped>\n    .dataframe tbody tr th:only-of-type {\n        vertical-align: middle;\n    }\n\n    .dataframe tbody tr th {\n        vertical-align: top;\n    }\n\n    .dataframe thead th {\n        text-align: right;\n    }\n</style>\n<table border=\"1\" class=\"dataframe\">\n  <thead>\n    <tr style=\"text-align: right;\">\n      <th>col_0</th>\n      <th>prediction</th>\n    </tr>\n    <tr>\n      <th>actual</th>\n      <th></th>\n    </tr>\n  </thead>\n  <tbody>\n    <tr>\n      <th>0</th>\n      <td>172</td>\n    </tr>\n    <tr>\n      <th>1</th>\n      <td>104</td>\n    </tr>\n  </tbody>\n</table>\n</div>"
     },
     "execution_count": 22,
     "metadata": {},
     "output_type": "execute_result"
    }
   ],
   "source": [
    "combined = pd.DataFrame(dict(actual=test[\"target\"], prediction=preds))\n",
    "\n",
    "pd.crosstab(index=combined[\"actual\"], columns=[\"prediction\"])"
   ],
   "metadata": {
    "collapsed": false
   }
  },
  {
   "cell_type": "code",
   "execution_count": 23,
   "outputs": [],
   "source": [
    "from sklearn.metrics import precision_score"
   ],
   "metadata": {
    "collapsed": false
   }
  },
  {
   "cell_type": "markdown",
   "source": [
    "## We only predicted the correct winner 47% of the time with the above code"
   ],
   "metadata": {
    "collapsed": false
   }
  },
  {
   "cell_type": "code",
   "execution_count": 24,
   "outputs": [
    {
     "data": {
      "text/plain": "0.4745762711864407"
     },
     "execution_count": 24,
     "metadata": {},
     "output_type": "execute_result"
    }
   ],
   "source": [
    "precision_score(test[\"target\"], preds)"
   ],
   "metadata": {
    "collapsed": false
   }
  },
  {
   "cell_type": "markdown",
   "source": [
    "## Improving Accuracy With Rolling Averages"
   ],
   "metadata": {
    "collapsed": false
   }
  },
  {
   "cell_type": "code",
   "execution_count": 25,
   "outputs": [],
   "source": [
    "# Group the data for each team\n",
    "\n",
    "grouped_matches = match_data.groupby(\"team\")"
   ],
   "metadata": {
    "collapsed": false
   }
  },
  {
   "cell_type": "code",
   "execution_count": 26,
   "outputs": [],
   "source": [
    "''' Compute rolling averages for a certain column then assign them to the relevant team'''\n",
    "\n",
    "def rolling_averages(group, cols, new_cols):\n",
    "    group = group.sort_values(\"date\")\n",
    "    rolling_stats = group[cols].rolling(3, closed='left').mean()\n",
    "    group[new_cols] = rolling_stats\n",
    "    group = group.dropna(subset=new_cols)\n",
    "    return group"
   ],
   "metadata": {
    "collapsed": false
   }
  },
  {
   "cell_type": "code",
   "execution_count": 27,
   "outputs": [],
   "source": [
    "cols = [\"gf\", \"ga\", \"sh\", \"sot\", \"dist\", \"fk\", \"pk\", \"pkatt\"]\n",
    "new_cols = [f\"{c}_rolling\" for c in cols]"
   ],
   "metadata": {
    "collapsed": false
   }
  },
  {
   "cell_type": "code",
   "execution_count": 28,
   "outputs": [],
   "source": [
    "matches_rolling = match_data.groupby(\"team\").apply(lambda x: rolling_averages(x, cols, new_cols))"
   ],
   "metadata": {
    "collapsed": false
   }
  },
  {
   "cell_type": "markdown",
   "source": [
    "Show the rolling averages for each matchweek"
   ],
   "metadata": {
    "collapsed": false
   }
  },
  {
   "cell_type": "code",
   "execution_count": 29,
   "outputs": [
    {
     "data": {
      "text/plain": "         date   time            comp         round  day venue result   gf  \\\n6  2020-10-04  14:00  Premier League   Matchweek 4  Sun  Home      W  2.0   \n7  2020-10-17  17:30  Premier League   Matchweek 5  Sat  Away      L  0.0   \n9  2020-10-25  19:15  Premier League   Matchweek 6  Sun  Home      L  0.0   \n11 2020-11-01  16:30  Premier League   Matchweek 7  Sun  Away      W  1.0   \n13 2020-11-08  19:15  Premier League   Matchweek 8  Sun  Home      L  0.0   \n..        ...    ...             ...           ...  ...   ...    ...  ...   \n32 2022-03-13  14:00  Premier League  Matchweek 29  Sun  Away      W  1.0   \n33 2022-03-18  20:00  Premier League  Matchweek 30  Fri  Home      L  2.0   \n34 2022-04-02  15:00  Premier League  Matchweek 31  Sat  Home      W  2.0   \n35 2022-04-08  20:00  Premier League  Matchweek 32  Fri  Away      L  0.0   \n36 2022-04-24  14:00  Premier League  Matchweek 34  Sun  Away      L  0.0   \n\n     ga         opponent  ...  day_code  target  gf_rolling  ga_rolling  \\\n6   1.0    Sheffield Utd  ...         6       1    2.000000    1.333333   \n7   1.0  Manchester City  ...         5       0    1.666667    1.666667   \n9   1.0   Leicester City  ...         6       0    1.000000    1.666667   \n11  0.0   Manchester Utd  ...         6       1    0.666667    1.000000   \n13  3.0      Aston Villa  ...         6       0    0.333333    0.666667   \n..  ...              ...  ...       ...     ...         ...         ...   \n32  0.0          Everton  ...         6       1    1.333333    1.000000   \n33  3.0     Leeds United  ...         4       0    1.666667    0.666667   \n34  1.0      Aston Villa  ...         5       1    2.333333    1.000000   \n35  1.0    Newcastle Utd  ...         4       0    1.666667    1.333333   \n36  1.0          Burnley  ...         6       0    1.333333    1.666667   \n\n   sh_rolling sot_rolling dist_rolling fk_rolling  pk_rolling  pkatt_rolling  \n6    7.666667    3.666667    14.733333   0.666667    0.000000       0.000000  \n7    5.333333    3.666667    15.766667   0.000000    0.000000       0.000000  \n9    7.000000    3.666667    16.733333   0.666667    0.000000       0.000000  \n11   9.666667    4.000000    16.033333   1.000000    0.000000       0.000000  \n13   9.666667    2.666667    18.033333   1.000000    0.333333       0.333333  \n..        ...         ...          ...        ...         ...            ...  \n32  12.333333    3.666667    19.300000   0.000000    0.000000       0.000000  \n33  12.333333    4.333333    19.600000   0.000000    0.000000       0.000000  \n34  13.000000    5.333333    19.833333   0.000000    0.000000       0.000000  \n35  13.000000    5.000000    18.533333   0.000000    0.000000       0.000000  \n36  10.000000    4.666667    17.633333   0.000000    0.000000       0.000000  \n\n[1317 rows x 40 columns]",
      "text/html": "<div>\n<style scoped>\n    .dataframe tbody tr th:only-of-type {\n        vertical-align: middle;\n    }\n\n    .dataframe tbody tr th {\n        vertical-align: top;\n    }\n\n    .dataframe thead th {\n        text-align: right;\n    }\n</style>\n<table border=\"1\" class=\"dataframe\">\n  <thead>\n    <tr style=\"text-align: right;\">\n      <th></th>\n      <th>date</th>\n      <th>time</th>\n      <th>comp</th>\n      <th>round</th>\n      <th>day</th>\n      <th>venue</th>\n      <th>result</th>\n      <th>gf</th>\n      <th>ga</th>\n      <th>opponent</th>\n      <th>...</th>\n      <th>day_code</th>\n      <th>target</th>\n      <th>gf_rolling</th>\n      <th>ga_rolling</th>\n      <th>sh_rolling</th>\n      <th>sot_rolling</th>\n      <th>dist_rolling</th>\n      <th>fk_rolling</th>\n      <th>pk_rolling</th>\n      <th>pkatt_rolling</th>\n    </tr>\n  </thead>\n  <tbody>\n    <tr>\n      <th>6</th>\n      <td>2020-10-04</td>\n      <td>14:00</td>\n      <td>Premier League</td>\n      <td>Matchweek 4</td>\n      <td>Sun</td>\n      <td>Home</td>\n      <td>W</td>\n      <td>2.0</td>\n      <td>1.0</td>\n      <td>Sheffield Utd</td>\n      <td>...</td>\n      <td>6</td>\n      <td>1</td>\n      <td>2.000000</td>\n      <td>1.333333</td>\n      <td>7.666667</td>\n      <td>3.666667</td>\n      <td>14.733333</td>\n      <td>0.666667</td>\n      <td>0.000000</td>\n      <td>0.000000</td>\n    </tr>\n    <tr>\n      <th>7</th>\n      <td>2020-10-17</td>\n      <td>17:30</td>\n      <td>Premier League</td>\n      <td>Matchweek 5</td>\n      <td>Sat</td>\n      <td>Away</td>\n      <td>L</td>\n      <td>0.0</td>\n      <td>1.0</td>\n      <td>Manchester City</td>\n      <td>...</td>\n      <td>5</td>\n      <td>0</td>\n      <td>1.666667</td>\n      <td>1.666667</td>\n      <td>5.333333</td>\n      <td>3.666667</td>\n      <td>15.766667</td>\n      <td>0.000000</td>\n      <td>0.000000</td>\n      <td>0.000000</td>\n    </tr>\n    <tr>\n      <th>9</th>\n      <td>2020-10-25</td>\n      <td>19:15</td>\n      <td>Premier League</td>\n      <td>Matchweek 6</td>\n      <td>Sun</td>\n      <td>Home</td>\n      <td>L</td>\n      <td>0.0</td>\n      <td>1.0</td>\n      <td>Leicester City</td>\n      <td>...</td>\n      <td>6</td>\n      <td>0</td>\n      <td>1.000000</td>\n      <td>1.666667</td>\n      <td>7.000000</td>\n      <td>3.666667</td>\n      <td>16.733333</td>\n      <td>0.666667</td>\n      <td>0.000000</td>\n      <td>0.000000</td>\n    </tr>\n    <tr>\n      <th>11</th>\n      <td>2020-11-01</td>\n      <td>16:30</td>\n      <td>Premier League</td>\n      <td>Matchweek 7</td>\n      <td>Sun</td>\n      <td>Away</td>\n      <td>W</td>\n      <td>1.0</td>\n      <td>0.0</td>\n      <td>Manchester Utd</td>\n      <td>...</td>\n      <td>6</td>\n      <td>1</td>\n      <td>0.666667</td>\n      <td>1.000000</td>\n      <td>9.666667</td>\n      <td>4.000000</td>\n      <td>16.033333</td>\n      <td>1.000000</td>\n      <td>0.000000</td>\n      <td>0.000000</td>\n    </tr>\n    <tr>\n      <th>13</th>\n      <td>2020-11-08</td>\n      <td>19:15</td>\n      <td>Premier League</td>\n      <td>Matchweek 8</td>\n      <td>Sun</td>\n      <td>Home</td>\n      <td>L</td>\n      <td>0.0</td>\n      <td>3.0</td>\n      <td>Aston Villa</td>\n      <td>...</td>\n      <td>6</td>\n      <td>0</td>\n      <td>0.333333</td>\n      <td>0.666667</td>\n      <td>9.666667</td>\n      <td>2.666667</td>\n      <td>18.033333</td>\n      <td>1.000000</td>\n      <td>0.333333</td>\n      <td>0.333333</td>\n    </tr>\n    <tr>\n      <th>...</th>\n      <td>...</td>\n      <td>...</td>\n      <td>...</td>\n      <td>...</td>\n      <td>...</td>\n      <td>...</td>\n      <td>...</td>\n      <td>...</td>\n      <td>...</td>\n      <td>...</td>\n      <td>...</td>\n      <td>...</td>\n      <td>...</td>\n      <td>...</td>\n      <td>...</td>\n      <td>...</td>\n      <td>...</td>\n      <td>...</td>\n      <td>...</td>\n      <td>...</td>\n      <td>...</td>\n    </tr>\n    <tr>\n      <th>32</th>\n      <td>2022-03-13</td>\n      <td>14:00</td>\n      <td>Premier League</td>\n      <td>Matchweek 29</td>\n      <td>Sun</td>\n      <td>Away</td>\n      <td>W</td>\n      <td>1.0</td>\n      <td>0.0</td>\n      <td>Everton</td>\n      <td>...</td>\n      <td>6</td>\n      <td>1</td>\n      <td>1.333333</td>\n      <td>1.000000</td>\n      <td>12.333333</td>\n      <td>3.666667</td>\n      <td>19.300000</td>\n      <td>0.000000</td>\n      <td>0.000000</td>\n      <td>0.000000</td>\n    </tr>\n    <tr>\n      <th>33</th>\n      <td>2022-03-18</td>\n      <td>20:00</td>\n      <td>Premier League</td>\n      <td>Matchweek 30</td>\n      <td>Fri</td>\n      <td>Home</td>\n      <td>L</td>\n      <td>2.0</td>\n      <td>3.0</td>\n      <td>Leeds United</td>\n      <td>...</td>\n      <td>4</td>\n      <td>0</td>\n      <td>1.666667</td>\n      <td>0.666667</td>\n      <td>12.333333</td>\n      <td>4.333333</td>\n      <td>19.600000</td>\n      <td>0.000000</td>\n      <td>0.000000</td>\n      <td>0.000000</td>\n    </tr>\n    <tr>\n      <th>34</th>\n      <td>2022-04-02</td>\n      <td>15:00</td>\n      <td>Premier League</td>\n      <td>Matchweek 31</td>\n      <td>Sat</td>\n      <td>Home</td>\n      <td>W</td>\n      <td>2.0</td>\n      <td>1.0</td>\n      <td>Aston Villa</td>\n      <td>...</td>\n      <td>5</td>\n      <td>1</td>\n      <td>2.333333</td>\n      <td>1.000000</td>\n      <td>13.000000</td>\n      <td>5.333333</td>\n      <td>19.833333</td>\n      <td>0.000000</td>\n      <td>0.000000</td>\n      <td>0.000000</td>\n    </tr>\n    <tr>\n      <th>35</th>\n      <td>2022-04-08</td>\n      <td>20:00</td>\n      <td>Premier League</td>\n      <td>Matchweek 32</td>\n      <td>Fri</td>\n      <td>Away</td>\n      <td>L</td>\n      <td>0.0</td>\n      <td>1.0</td>\n      <td>Newcastle Utd</td>\n      <td>...</td>\n      <td>4</td>\n      <td>0</td>\n      <td>1.666667</td>\n      <td>1.333333</td>\n      <td>13.000000</td>\n      <td>5.000000</td>\n      <td>18.533333</td>\n      <td>0.000000</td>\n      <td>0.000000</td>\n      <td>0.000000</td>\n    </tr>\n    <tr>\n      <th>36</th>\n      <td>2022-04-24</td>\n      <td>14:00</td>\n      <td>Premier League</td>\n      <td>Matchweek 34</td>\n      <td>Sun</td>\n      <td>Away</td>\n      <td>L</td>\n      <td>0.0</td>\n      <td>1.0</td>\n      <td>Burnley</td>\n      <td>...</td>\n      <td>6</td>\n      <td>0</td>\n      <td>1.333333</td>\n      <td>1.666667</td>\n      <td>10.000000</td>\n      <td>4.666667</td>\n      <td>17.633333</td>\n      <td>0.000000</td>\n      <td>0.000000</td>\n      <td>0.000000</td>\n    </tr>\n  </tbody>\n</table>\n<p>1317 rows × 40 columns</p>\n</div>"
     },
     "execution_count": 29,
     "metadata": {},
     "output_type": "execute_result"
    }
   ],
   "source": [
    "matches_rolling = matches_rolling.droplevel(\"team\")\n",
    "matches_rolling"
   ],
   "metadata": {
    "collapsed": false
   }
  },
  {
   "cell_type": "code",
   "execution_count": 30,
   "outputs": [],
   "source": [
    "def make_predictions(data, predictors):\n",
    "    train = data[data[\"date\"] < '2022-01-01']\n",
    "    test = data[data[\"date\"] > '2022-01-01']\n",
    "    rf.fit(train[predictors], train[\"target\"])\n",
    "    preds = rf.predict(test[predictors])\n",
    "    combined = pd.DataFrame(dict(actual=test[\"target\"], prediction=preds), index=test.index)\n",
    "    precision = precision_score(test[\"target\"], preds)\n",
    "    return combined, precision"
   ],
   "metadata": {
    "collapsed": false
   }
  },
  {
   "cell_type": "code",
   "execution_count": 31,
   "outputs": [],
   "source": [
    "combined, precision = make_predictions(matches_rolling, predictors + new_cols)"
   ],
   "metadata": {
    "collapsed": false
   }
  },
  {
   "cell_type": "markdown",
   "source": [
    "## Precision Score\n",
    "\n",
    "The precision has now risen to 62.5%"
   ],
   "metadata": {
    "collapsed": false
   }
  },
  {
   "cell_type": "code",
   "execution_count": 32,
   "outputs": [
    {
     "data": {
      "text/plain": "0.625"
     },
     "execution_count": 32,
     "metadata": {},
     "output_type": "execute_result"
    }
   ],
   "source": [
    "precision"
   ],
   "metadata": {
    "collapsed": false
   }
  },
  {
   "cell_type": "code",
   "execution_count": 33,
   "outputs": [],
   "source": [
    "# Combine team with their opponent\n",
    "\n",
    "combined = combined.merge(matches_rolling[[\"date\", \"team\", \"opponent\", \"result\"]], left_index=True, right_index=True)"
   ],
   "metadata": {
    "collapsed": false
   }
  },
  {
   "cell_type": "code",
   "execution_count": 34,
   "outputs": [
    {
     "data": {
      "text/plain": "    actual  prediction       date                      team         opponent  \\\n19       0           0 2021-12-15                   Arsenal         West Ham   \n19       0           0 2021-01-20               Aston Villa  Manchester City   \n19       0           0 2021-12-26               Aston Villa          Chelsea   \n19       0           0 2021-01-02  Brighton and Hove Albion           Wolves   \n19       0           0 2021-12-26  Brighton and Hove Albion        Brentford   \n..     ...         ...        ...                       ...              ...   \n52       0           1 2021-05-23                 Liverpool   Crystal Palace   \n52       0           1 2021-04-25         Manchester United     Leeds United   \n52       0           1 2021-04-21         Tottenham Hotspur      Southampton   \n53       1           1 2021-05-08                   Chelsea  Manchester City   \n53       1           1 2022-04-24                   Chelsea         West Ham   \n\n   result  \n19      W  \n19      L  \n19      L  \n19      D  \n19      W  \n..    ...  \n52      W  \n52      D  \n52      W  \n53      W  \n53      W  \n\n[8022 rows x 6 columns]",
      "text/html": "<div>\n<style scoped>\n    .dataframe tbody tr th:only-of-type {\n        vertical-align: middle;\n    }\n\n    .dataframe tbody tr th {\n        vertical-align: top;\n    }\n\n    .dataframe thead th {\n        text-align: right;\n    }\n</style>\n<table border=\"1\" class=\"dataframe\">\n  <thead>\n    <tr style=\"text-align: right;\">\n      <th></th>\n      <th>actual</th>\n      <th>prediction</th>\n      <th>date</th>\n      <th>team</th>\n      <th>opponent</th>\n      <th>result</th>\n    </tr>\n  </thead>\n  <tbody>\n    <tr>\n      <th>19</th>\n      <td>0</td>\n      <td>0</td>\n      <td>2021-12-15</td>\n      <td>Arsenal</td>\n      <td>West Ham</td>\n      <td>W</td>\n    </tr>\n    <tr>\n      <th>19</th>\n      <td>0</td>\n      <td>0</td>\n      <td>2021-01-20</td>\n      <td>Aston Villa</td>\n      <td>Manchester City</td>\n      <td>L</td>\n    </tr>\n    <tr>\n      <th>19</th>\n      <td>0</td>\n      <td>0</td>\n      <td>2021-12-26</td>\n      <td>Aston Villa</td>\n      <td>Chelsea</td>\n      <td>L</td>\n    </tr>\n    <tr>\n      <th>19</th>\n      <td>0</td>\n      <td>0</td>\n      <td>2021-01-02</td>\n      <td>Brighton and Hove Albion</td>\n      <td>Wolves</td>\n      <td>D</td>\n    </tr>\n    <tr>\n      <th>19</th>\n      <td>0</td>\n      <td>0</td>\n      <td>2021-12-26</td>\n      <td>Brighton and Hove Albion</td>\n      <td>Brentford</td>\n      <td>W</td>\n    </tr>\n    <tr>\n      <th>...</th>\n      <td>...</td>\n      <td>...</td>\n      <td>...</td>\n      <td>...</td>\n      <td>...</td>\n      <td>...</td>\n    </tr>\n    <tr>\n      <th>52</th>\n      <td>0</td>\n      <td>1</td>\n      <td>2021-05-23</td>\n      <td>Liverpool</td>\n      <td>Crystal Palace</td>\n      <td>W</td>\n    </tr>\n    <tr>\n      <th>52</th>\n      <td>0</td>\n      <td>1</td>\n      <td>2021-04-25</td>\n      <td>Manchester United</td>\n      <td>Leeds United</td>\n      <td>D</td>\n    </tr>\n    <tr>\n      <th>52</th>\n      <td>0</td>\n      <td>1</td>\n      <td>2021-04-21</td>\n      <td>Tottenham Hotspur</td>\n      <td>Southampton</td>\n      <td>W</td>\n    </tr>\n    <tr>\n      <th>53</th>\n      <td>1</td>\n      <td>1</td>\n      <td>2021-05-08</td>\n      <td>Chelsea</td>\n      <td>Manchester City</td>\n      <td>W</td>\n    </tr>\n    <tr>\n      <th>53</th>\n      <td>1</td>\n      <td>1</td>\n      <td>2022-04-24</td>\n      <td>Chelsea</td>\n      <td>West Ham</td>\n      <td>W</td>\n    </tr>\n  </tbody>\n</table>\n<p>8022 rows × 6 columns</p>\n</div>"
     },
     "execution_count": 34,
     "metadata": {},
     "output_type": "execute_result"
    }
   ],
   "source": [
    "combined"
   ],
   "metadata": {
    "collapsed": false
   }
  },
  {
   "cell_type": "markdown",
   "source": [
    "## Combine Home and Away Matches"
   ],
   "metadata": {
    "collapsed": false
   }
  },
  {
   "cell_type": "code",
   "execution_count": 35,
   "outputs": [],
   "source": [
    "class MissingDict(dict):\n",
    "    __missing__ = lambda self, key: key\n",
    "\n",
    "map_vals = {\n",
    "    \"Brighton and Hove Albion\": \"Brighton\",\n",
    "    \"Manchester United\": \"Manchester Utd\",\n",
    "    \"Newcastle United\": \"Newcastle Utd\",\n",
    "    \"Tottenham Hotspur\": \"Tottenham\",\n",
    "    \"West Ham United\": \"West Ham\",\n",
    "    \"Wolverhampton Wanderers\": \"Wolves\"\n",
    "}\n",
    "\n",
    "mapping = MissingDict(**map_vals)"
   ],
   "metadata": {
    "collapsed": false
   }
  },
  {
   "cell_type": "code",
   "execution_count": 36,
   "outputs": [
    {
     "data": {
      "text/plain": "'West Ham'"
     },
     "execution_count": 36,
     "metadata": {},
     "output_type": "execute_result"
    }
   ],
   "source": [
    "mapping[\"West Ham United\"]"
   ],
   "metadata": {
    "collapsed": false
   }
  },
  {
   "cell_type": "code",
   "execution_count": 37,
   "outputs": [],
   "source": [
    "combined[\"new_team\"] = combined[\"team\"].map(mapping)"
   ],
   "metadata": {
    "collapsed": false
   }
  },
  {
   "cell_type": "code",
   "execution_count": 38,
   "outputs": [],
   "source": [
    "merged = combined.merge(combined, left_on=[\"date\", \"new_team\"], right_on=[\"date\", \"opponent\"])"
   ],
   "metadata": {
    "collapsed": false
   }
  },
  {
   "cell_type": "code",
   "execution_count": 39,
   "outputs": [
    {
     "data": {
      "text/plain": "       actual_x  prediction_x       date             team_x   opponent_x  \\\n0             0             0 2021-12-15            Arsenal     West Ham   \n1             0             0 2021-12-15            Arsenal     West Ham   \n2             0             0 2021-12-15            Arsenal     West Ham   \n3             0             0 2021-12-15            Arsenal     West Ham   \n4             0             0 2021-12-15            Arsenal     West Ham   \n...         ...           ...        ...                ...          ...   \n74444         0             1 2021-04-21  Tottenham Hotspur  Southampton   \n74445         1             1 2022-04-24            Chelsea     West Ham   \n74446         1             1 2022-04-24            Chelsea     West Ham   \n74447         1             1 2022-04-24            Chelsea     West Ham   \n74448         1             1 2022-04-24            Chelsea     West Ham   \n\n      result_x new_team_x  actual_y  prediction_y           team_y opponent_y  \\\n0            W    Arsenal         0             0  West Ham United    Arsenal   \n1            W    Arsenal         0             0  West Ham United    Arsenal   \n2            W    Arsenal         0             0  West Ham United    Arsenal   \n3            W    Arsenal         0             0  West Ham United    Arsenal   \n4            W    Arsenal         0             0  West Ham United    Arsenal   \n...        ...        ...       ...           ...              ...        ...   \n74444        W  Tottenham         1             1      Southampton  Tottenham   \n74445        W    Chelsea         1             0  West Ham United    Chelsea   \n74446        W    Chelsea         0             0  West Ham United    Chelsea   \n74447        W    Chelsea         1             1  West Ham United    Chelsea   \n74448        W    Chelsea         0             0  West Ham United    Chelsea   \n\n      result_y   new_team_y  \n0            L     West Ham  \n1            L     West Ham  \n2            L     West Ham  \n3            L     West Ham  \n4            L     West Ham  \n...        ...          ...  \n74444        L  Southampton  \n74445        L     West Ham  \n74446        L     West Ham  \n74447        L     West Ham  \n74448        L     West Ham  \n\n[74449 rows x 13 columns]",
      "text/html": "<div>\n<style scoped>\n    .dataframe tbody tr th:only-of-type {\n        vertical-align: middle;\n    }\n\n    .dataframe tbody tr th {\n        vertical-align: top;\n    }\n\n    .dataframe thead th {\n        text-align: right;\n    }\n</style>\n<table border=\"1\" class=\"dataframe\">\n  <thead>\n    <tr style=\"text-align: right;\">\n      <th></th>\n      <th>actual_x</th>\n      <th>prediction_x</th>\n      <th>date</th>\n      <th>team_x</th>\n      <th>opponent_x</th>\n      <th>result_x</th>\n      <th>new_team_x</th>\n      <th>actual_y</th>\n      <th>prediction_y</th>\n      <th>team_y</th>\n      <th>opponent_y</th>\n      <th>result_y</th>\n      <th>new_team_y</th>\n    </tr>\n  </thead>\n  <tbody>\n    <tr>\n      <th>0</th>\n      <td>0</td>\n      <td>0</td>\n      <td>2021-12-15</td>\n      <td>Arsenal</td>\n      <td>West Ham</td>\n      <td>W</td>\n      <td>Arsenal</td>\n      <td>0</td>\n      <td>0</td>\n      <td>West Ham United</td>\n      <td>Arsenal</td>\n      <td>L</td>\n      <td>West Ham</td>\n    </tr>\n    <tr>\n      <th>1</th>\n      <td>0</td>\n      <td>0</td>\n      <td>2021-12-15</td>\n      <td>Arsenal</td>\n      <td>West Ham</td>\n      <td>W</td>\n      <td>Arsenal</td>\n      <td>0</td>\n      <td>0</td>\n      <td>West Ham United</td>\n      <td>Arsenal</td>\n      <td>L</td>\n      <td>West Ham</td>\n    </tr>\n    <tr>\n      <th>2</th>\n      <td>0</td>\n      <td>0</td>\n      <td>2021-12-15</td>\n      <td>Arsenal</td>\n      <td>West Ham</td>\n      <td>W</td>\n      <td>Arsenal</td>\n      <td>0</td>\n      <td>0</td>\n      <td>West Ham United</td>\n      <td>Arsenal</td>\n      <td>L</td>\n      <td>West Ham</td>\n    </tr>\n    <tr>\n      <th>3</th>\n      <td>0</td>\n      <td>0</td>\n      <td>2021-12-15</td>\n      <td>Arsenal</td>\n      <td>West Ham</td>\n      <td>W</td>\n      <td>Arsenal</td>\n      <td>0</td>\n      <td>0</td>\n      <td>West Ham United</td>\n      <td>Arsenal</td>\n      <td>L</td>\n      <td>West Ham</td>\n    </tr>\n    <tr>\n      <th>4</th>\n      <td>0</td>\n      <td>0</td>\n      <td>2021-12-15</td>\n      <td>Arsenal</td>\n      <td>West Ham</td>\n      <td>W</td>\n      <td>Arsenal</td>\n      <td>0</td>\n      <td>0</td>\n      <td>West Ham United</td>\n      <td>Arsenal</td>\n      <td>L</td>\n      <td>West Ham</td>\n    </tr>\n    <tr>\n      <th>...</th>\n      <td>...</td>\n      <td>...</td>\n      <td>...</td>\n      <td>...</td>\n      <td>...</td>\n      <td>...</td>\n      <td>...</td>\n      <td>...</td>\n      <td>...</td>\n      <td>...</td>\n      <td>...</td>\n      <td>...</td>\n      <td>...</td>\n    </tr>\n    <tr>\n      <th>74444</th>\n      <td>0</td>\n      <td>1</td>\n      <td>2021-04-21</td>\n      <td>Tottenham Hotspur</td>\n      <td>Southampton</td>\n      <td>W</td>\n      <td>Tottenham</td>\n      <td>1</td>\n      <td>1</td>\n      <td>Southampton</td>\n      <td>Tottenham</td>\n      <td>L</td>\n      <td>Southampton</td>\n    </tr>\n    <tr>\n      <th>74445</th>\n      <td>1</td>\n      <td>1</td>\n      <td>2022-04-24</td>\n      <td>Chelsea</td>\n      <td>West Ham</td>\n      <td>W</td>\n      <td>Chelsea</td>\n      <td>1</td>\n      <td>0</td>\n      <td>West Ham United</td>\n      <td>Chelsea</td>\n      <td>L</td>\n      <td>West Ham</td>\n    </tr>\n    <tr>\n      <th>74446</th>\n      <td>1</td>\n      <td>1</td>\n      <td>2022-04-24</td>\n      <td>Chelsea</td>\n      <td>West Ham</td>\n      <td>W</td>\n      <td>Chelsea</td>\n      <td>0</td>\n      <td>0</td>\n      <td>West Ham United</td>\n      <td>Chelsea</td>\n      <td>L</td>\n      <td>West Ham</td>\n    </tr>\n    <tr>\n      <th>74447</th>\n      <td>1</td>\n      <td>1</td>\n      <td>2022-04-24</td>\n      <td>Chelsea</td>\n      <td>West Ham</td>\n      <td>W</td>\n      <td>Chelsea</td>\n      <td>1</td>\n      <td>1</td>\n      <td>West Ham United</td>\n      <td>Chelsea</td>\n      <td>L</td>\n      <td>West Ham</td>\n    </tr>\n    <tr>\n      <th>74448</th>\n      <td>1</td>\n      <td>1</td>\n      <td>2022-04-24</td>\n      <td>Chelsea</td>\n      <td>West Ham</td>\n      <td>W</td>\n      <td>Chelsea</td>\n      <td>0</td>\n      <td>0</td>\n      <td>West Ham United</td>\n      <td>Chelsea</td>\n      <td>L</td>\n      <td>West Ham</td>\n    </tr>\n  </tbody>\n</table>\n<p>74449 rows × 13 columns</p>\n</div>"
     },
     "execution_count": 39,
     "metadata": {},
     "output_type": "execute_result"
    }
   ],
   "source": [
    "merged"
   ],
   "metadata": {
    "collapsed": false
   }
  },
  {
   "cell_type": "code",
   "execution_count": 40,
   "outputs": [
    {
     "data": {
      "text/plain": "       actual_x  prediction_x       date             team_x       opponent_x  \\\n3518          1             1 2022-01-01            Arsenal  Manchester City   \n3520          1             1 2022-01-01            Arsenal  Manchester City   \n3521          1             1 2022-01-01            Arsenal  Manchester City   \n3522          1             1 2022-01-01            Arsenal  Manchester City   \n3523          1             1 2022-01-01            Arsenal  Manchester City   \n...         ...           ...        ...                ...              ...   \n74442         0             1 2021-04-21  Tottenham Hotspur      Southampton   \n74443         0             1 2021-04-21  Tottenham Hotspur      Southampton   \n74445         1             1 2022-04-24            Chelsea         West Ham   \n74446         1             1 2022-04-24            Chelsea         West Ham   \n74448         1             1 2022-04-24            Chelsea         West Ham   \n\n      result_x new_team_x  actual_y  prediction_y           team_y opponent_y  \\\n3518         L    Arsenal         1             0  Manchester City    Arsenal   \n3520         L    Arsenal         0             0  Manchester City    Arsenal   \n3521         L    Arsenal         0             0  Manchester City    Arsenal   \n3522         L    Arsenal         0             0  Manchester City    Arsenal   \n3523         L    Arsenal         0             0  Manchester City    Arsenal   \n...        ...        ...       ...           ...              ...        ...   \n74442        W  Tottenham         0             0      Southampton  Tottenham   \n74443        W  Tottenham         1             0      Southampton  Tottenham   \n74445        W    Chelsea         1             0  West Ham United    Chelsea   \n74446        W    Chelsea         0             0  West Ham United    Chelsea   \n74448        W    Chelsea         0             0  West Ham United    Chelsea   \n\n      result_y       new_team_y  \n3518         W  Manchester City  \n3520         W  Manchester City  \n3521         W  Manchester City  \n3522         W  Manchester City  \n3523         W  Manchester City  \n...        ...              ...  \n74442        L      Southampton  \n74443        L      Southampton  \n74445        L         West Ham  \n74446        L         West Ham  \n74448        L         West Ham  \n\n[10072 rows x 13 columns]",
      "text/html": "<div>\n<style scoped>\n    .dataframe tbody tr th:only-of-type {\n        vertical-align: middle;\n    }\n\n    .dataframe tbody tr th {\n        vertical-align: top;\n    }\n\n    .dataframe thead th {\n        text-align: right;\n    }\n</style>\n<table border=\"1\" class=\"dataframe\">\n  <thead>\n    <tr style=\"text-align: right;\">\n      <th></th>\n      <th>actual_x</th>\n      <th>prediction_x</th>\n      <th>date</th>\n      <th>team_x</th>\n      <th>opponent_x</th>\n      <th>result_x</th>\n      <th>new_team_x</th>\n      <th>actual_y</th>\n      <th>prediction_y</th>\n      <th>team_y</th>\n      <th>opponent_y</th>\n      <th>result_y</th>\n      <th>new_team_y</th>\n    </tr>\n  </thead>\n  <tbody>\n    <tr>\n      <th>3518</th>\n      <td>1</td>\n      <td>1</td>\n      <td>2022-01-01</td>\n      <td>Arsenal</td>\n      <td>Manchester City</td>\n      <td>L</td>\n      <td>Arsenal</td>\n      <td>1</td>\n      <td>0</td>\n      <td>Manchester City</td>\n      <td>Arsenal</td>\n      <td>W</td>\n      <td>Manchester City</td>\n    </tr>\n    <tr>\n      <th>3520</th>\n      <td>1</td>\n      <td>1</td>\n      <td>2022-01-01</td>\n      <td>Arsenal</td>\n      <td>Manchester City</td>\n      <td>L</td>\n      <td>Arsenal</td>\n      <td>0</td>\n      <td>0</td>\n      <td>Manchester City</td>\n      <td>Arsenal</td>\n      <td>W</td>\n      <td>Manchester City</td>\n    </tr>\n    <tr>\n      <th>3521</th>\n      <td>1</td>\n      <td>1</td>\n      <td>2022-01-01</td>\n      <td>Arsenal</td>\n      <td>Manchester City</td>\n      <td>L</td>\n      <td>Arsenal</td>\n      <td>0</td>\n      <td>0</td>\n      <td>Manchester City</td>\n      <td>Arsenal</td>\n      <td>W</td>\n      <td>Manchester City</td>\n    </tr>\n    <tr>\n      <th>3522</th>\n      <td>1</td>\n      <td>1</td>\n      <td>2022-01-01</td>\n      <td>Arsenal</td>\n      <td>Manchester City</td>\n      <td>L</td>\n      <td>Arsenal</td>\n      <td>0</td>\n      <td>0</td>\n      <td>Manchester City</td>\n      <td>Arsenal</td>\n      <td>W</td>\n      <td>Manchester City</td>\n    </tr>\n    <tr>\n      <th>3523</th>\n      <td>1</td>\n      <td>1</td>\n      <td>2022-01-01</td>\n      <td>Arsenal</td>\n      <td>Manchester City</td>\n      <td>L</td>\n      <td>Arsenal</td>\n      <td>0</td>\n      <td>0</td>\n      <td>Manchester City</td>\n      <td>Arsenal</td>\n      <td>W</td>\n      <td>Manchester City</td>\n    </tr>\n    <tr>\n      <th>...</th>\n      <td>...</td>\n      <td>...</td>\n      <td>...</td>\n      <td>...</td>\n      <td>...</td>\n      <td>...</td>\n      <td>...</td>\n      <td>...</td>\n      <td>...</td>\n      <td>...</td>\n      <td>...</td>\n      <td>...</td>\n      <td>...</td>\n    </tr>\n    <tr>\n      <th>74442</th>\n      <td>0</td>\n      <td>1</td>\n      <td>2021-04-21</td>\n      <td>Tottenham Hotspur</td>\n      <td>Southampton</td>\n      <td>W</td>\n      <td>Tottenham</td>\n      <td>0</td>\n      <td>0</td>\n      <td>Southampton</td>\n      <td>Tottenham</td>\n      <td>L</td>\n      <td>Southampton</td>\n    </tr>\n    <tr>\n      <th>74443</th>\n      <td>0</td>\n      <td>1</td>\n      <td>2021-04-21</td>\n      <td>Tottenham Hotspur</td>\n      <td>Southampton</td>\n      <td>W</td>\n      <td>Tottenham</td>\n      <td>1</td>\n      <td>0</td>\n      <td>Southampton</td>\n      <td>Tottenham</td>\n      <td>L</td>\n      <td>Southampton</td>\n    </tr>\n    <tr>\n      <th>74445</th>\n      <td>1</td>\n      <td>1</td>\n      <td>2022-04-24</td>\n      <td>Chelsea</td>\n      <td>West Ham</td>\n      <td>W</td>\n      <td>Chelsea</td>\n      <td>1</td>\n      <td>0</td>\n      <td>West Ham United</td>\n      <td>Chelsea</td>\n      <td>L</td>\n      <td>West Ham</td>\n    </tr>\n    <tr>\n      <th>74446</th>\n      <td>1</td>\n      <td>1</td>\n      <td>2022-04-24</td>\n      <td>Chelsea</td>\n      <td>West Ham</td>\n      <td>W</td>\n      <td>Chelsea</td>\n      <td>0</td>\n      <td>0</td>\n      <td>West Ham United</td>\n      <td>Chelsea</td>\n      <td>L</td>\n      <td>West Ham</td>\n    </tr>\n    <tr>\n      <th>74448</th>\n      <td>1</td>\n      <td>1</td>\n      <td>2022-04-24</td>\n      <td>Chelsea</td>\n      <td>West Ham</td>\n      <td>W</td>\n      <td>Chelsea</td>\n      <td>0</td>\n      <td>0</td>\n      <td>West Ham United</td>\n      <td>Chelsea</td>\n      <td>L</td>\n      <td>West Ham</td>\n    </tr>\n  </tbody>\n</table>\n<p>10072 rows × 13 columns</p>\n</div>"
     },
     "execution_count": 40,
     "metadata": {},
     "output_type": "execute_result"
    }
   ],
   "source": [
    "merged[(merged['prediction_x'] == 1) & (merged['prediction_y'] == 0)]"
   ],
   "metadata": {
    "collapsed": false
   }
  }
 ],
 "metadata": {
  "kernelspec": {
   "display_name": "Python 3",
   "language": "python",
   "name": "python3"
  },
  "language_info": {
   "codemirror_mode": {
    "name": "ipython",
    "version": 2
   },
   "file_extension": ".py",
   "mimetype": "text/x-python",
   "name": "python",
   "nbconvert_exporter": "python",
   "pygments_lexer": "ipython2",
   "version": "2.7.6"
  }
 },
 "nbformat": 4,
 "nbformat_minor": 0
}
